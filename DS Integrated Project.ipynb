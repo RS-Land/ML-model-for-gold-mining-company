{
 "cells": [
  {
   "cell_type": "markdown",
   "metadata": {},
   "source": [
    "# Project description"
   ]
  },
  {
   "cell_type": "markdown",
   "metadata": {},
   "source": [
    "The goal is to prepare a prototype of a machine learning model for Zyfra. The company develops efficiency solutions for heavy industry.\n",
    "\n",
    "The model should predict the amount of gold recovered from gold ore. We have the data on extraction and purification.\n",
    "The model will help to optimize the production and eliminate unprofitable parameters."
   ]
  },
  {
   "cell_type": "markdown",
   "metadata": {},
   "source": [
    "## Prepare the data"
   ]
  },
  {
   "cell_type": "code",
   "execution_count": 72,
   "metadata": {},
   "outputs": [],
   "source": [
    "import pandas as pd\n",
    "import numpy as np\n",
    "from scipy import stats as st\n",
    "import matplotlib.pyplot as plt\n",
    "import seaborn as sns\n",
    "from numpy.random import RandomState\n",
    "from scipy import stats\n",
    "from sklearn.metrics import mean_absolute_error\n",
    "from sklearn.model_selection import train_test_split as tts\n",
    "from sklearn.model_selection import cross_val_score\n",
    "from sklearn.linear_model import LinearRegression\n",
    "from sklearn.linear_model import Lasso\n",
    "from sklearn.neighbors import KNeighborsRegressor\n",
    "from sklearn.tree import DecisionTreeRegressor\n",
    "from sklearn.ensemble import RandomForestRegressor\n",
    "from sklearn.model_selection import GridSearchCV\n",
    "from sklearn.metrics import make_scorer\n",
    "from sklearn.metrics import mean_squared_error\n",
    "from sklearn.metrics import mean_absolute_error\n",
    "from numpy.random import RandomState\n",
    "from pprint import pprint\n",
    "from sklearn.impute import KNNImputer\n",
    "from sklearn.preprocessing import MinMaxScaler\n",
    "from sklearn.preprocessing import StandardScaler\n",
    "import warnings\n",
    "\n",
    "warnings.filterwarnings('ignore')"
   ]
  },
  {
   "cell_type": "markdown",
   "metadata": {},
   "source": [
    "### Open the files and look into the data"
   ]
  },
  {
   "cell_type": "code",
   "execution_count": 73,
   "metadata": {},
   "outputs": [],
   "source": [
    "try:\n",
    "    gr_train = pd.read_csv('gold_recovery_train.csv')\n",
    "    gr_test = pd.read_csv('gold_recovery_test.csv')\n",
    "    gr_full = pd.read_csv('gold_recovery_full.csv')\n",
    "except:\n",
    "    gr_train = pd.read_csv('/datasets/gold_recovery_train.csv')\n",
    "    gr_test = pd.read_csv('/datasets/gold_recovery_test.csv')\n",
    "    gr_full = pd.read_csv('/datasets/gold_recovery_full.csv')"
   ]
  },
  {
   "cell_type": "code",
   "execution_count": 74,
   "metadata": {},
   "outputs": [
    {
     "name": "stdout",
     "output_type": "stream",
     "text": [
      "<class 'pandas.core.frame.DataFrame'>\n",
      "RangeIndex: 16860 entries, 0 to 16859\n",
      "Data columns (total 87 columns):\n",
      " #   Column                                              Non-Null Count  Dtype  \n",
      "---  ------                                              --------------  -----  \n",
      " 0   date                                                16860 non-null  object \n",
      " 1   final.output.concentrate_ag                         16788 non-null  float64\n",
      " 2   final.output.concentrate_pb                         16788 non-null  float64\n",
      " 3   final.output.concentrate_sol                        16490 non-null  float64\n",
      " 4   final.output.concentrate_au                         16789 non-null  float64\n",
      " 5   final.output.recovery                               15339 non-null  float64\n",
      " 6   final.output.tail_ag                                16794 non-null  float64\n",
      " 7   final.output.tail_pb                                16677 non-null  float64\n",
      " 8   final.output.tail_sol                               16715 non-null  float64\n",
      " 9   final.output.tail_au                                16794 non-null  float64\n",
      " 10  primary_cleaner.input.sulfate                       15553 non-null  float64\n",
      " 11  primary_cleaner.input.depressant                    15598 non-null  float64\n",
      " 12  primary_cleaner.input.feed_size                     16860 non-null  float64\n",
      " 13  primary_cleaner.input.xanthate                      15875 non-null  float64\n",
      " 14  primary_cleaner.output.concentrate_ag               16778 non-null  float64\n",
      " 15  primary_cleaner.output.concentrate_pb               16502 non-null  float64\n",
      " 16  primary_cleaner.output.concentrate_sol              16224 non-null  float64\n",
      " 17  primary_cleaner.output.concentrate_au               16778 non-null  float64\n",
      " 18  primary_cleaner.output.tail_ag                      16777 non-null  float64\n",
      " 19  primary_cleaner.output.tail_pb                      16761 non-null  float64\n",
      " 20  primary_cleaner.output.tail_sol                     16579 non-null  float64\n",
      " 21  primary_cleaner.output.tail_au                      16777 non-null  float64\n",
      " 22  primary_cleaner.state.floatbank8_a_air              16820 non-null  float64\n",
      " 23  primary_cleaner.state.floatbank8_a_level            16827 non-null  float64\n",
      " 24  primary_cleaner.state.floatbank8_b_air              16820 non-null  float64\n",
      " 25  primary_cleaner.state.floatbank8_b_level            16833 non-null  float64\n",
      " 26  primary_cleaner.state.floatbank8_c_air              16822 non-null  float64\n",
      " 27  primary_cleaner.state.floatbank8_c_level            16833 non-null  float64\n",
      " 28  primary_cleaner.state.floatbank8_d_air              16821 non-null  float64\n",
      " 29  primary_cleaner.state.floatbank8_d_level            16833 non-null  float64\n",
      " 30  rougher.calculation.sulfate_to_au_concentrate       16833 non-null  float64\n",
      " 31  rougher.calculation.floatbank10_sulfate_to_au_feed  16833 non-null  float64\n",
      " 32  rougher.calculation.floatbank11_sulfate_to_au_feed  16833 non-null  float64\n",
      " 33  rougher.calculation.au_pb_ratio                     15618 non-null  float64\n",
      " 34  rougher.input.feed_ag                               16778 non-null  float64\n",
      " 35  rougher.input.feed_pb                               16632 non-null  float64\n",
      " 36  rougher.input.feed_rate                             16347 non-null  float64\n",
      " 37  rougher.input.feed_size                             16443 non-null  float64\n",
      " 38  rougher.input.feed_sol                              16568 non-null  float64\n",
      " 39  rougher.input.feed_au                               16777 non-null  float64\n",
      " 40  rougher.input.floatbank10_sulfate                   15816 non-null  float64\n",
      " 41  rougher.input.floatbank10_xanthate                  16514 non-null  float64\n",
      " 42  rougher.input.floatbank11_sulfate                   16237 non-null  float64\n",
      " 43  rougher.input.floatbank11_xanthate                  14956 non-null  float64\n",
      " 44  rougher.output.concentrate_ag                       16778 non-null  float64\n",
      " 45  rougher.output.concentrate_pb                       16778 non-null  float64\n",
      " 46  rougher.output.concentrate_sol                      16698 non-null  float64\n",
      " 47  rougher.output.concentrate_au                       16778 non-null  float64\n",
      " 48  rougher.output.recovery                             14287 non-null  float64\n",
      " 49  rougher.output.tail_ag                              14610 non-null  float64\n",
      " 50  rougher.output.tail_pb                              16778 non-null  float64\n",
      " 51  rougher.output.tail_sol                             14611 non-null  float64\n",
      " 52  rougher.output.tail_au                              14611 non-null  float64\n",
      " 53  rougher.state.floatbank10_a_air                     16807 non-null  float64\n",
      " 54  rougher.state.floatbank10_a_level                   16807 non-null  float64\n",
      " 55  rougher.state.floatbank10_b_air                     16807 non-null  float64\n",
      " 56  rougher.state.floatbank10_b_level                   16807 non-null  float64\n",
      " 57  rougher.state.floatbank10_c_air                     16807 non-null  float64\n",
      " 58  rougher.state.floatbank10_c_level                   16814 non-null  float64\n",
      " 59  rougher.state.floatbank10_d_air                     16802 non-null  float64\n",
      " 60  rougher.state.floatbank10_d_level                   16809 non-null  float64\n",
      " 61  rougher.state.floatbank10_e_air                     16257 non-null  float64\n",
      " 62  rougher.state.floatbank10_e_level                   16809 non-null  float64\n",
      " 63  rougher.state.floatbank10_f_air                     16802 non-null  float64\n",
      " 64  rougher.state.floatbank10_f_level                   16802 non-null  float64\n",
      " 65  secondary_cleaner.output.tail_ag                    16776 non-null  float64\n",
      " 66  secondary_cleaner.output.tail_pb                    16764 non-null  float64\n",
      " 67  secondary_cleaner.output.tail_sol                   14874 non-null  float64\n",
      " 68  secondary_cleaner.output.tail_au                    16778 non-null  float64\n",
      " 69  secondary_cleaner.state.floatbank2_a_air            16497 non-null  float64\n",
      " 70  secondary_cleaner.state.floatbank2_a_level          16751 non-null  float64\n",
      " 71  secondary_cleaner.state.floatbank2_b_air            16705 non-null  float64\n",
      " 72  secondary_cleaner.state.floatbank2_b_level          16748 non-null  float64\n",
      " 73  secondary_cleaner.state.floatbank3_a_air            16763 non-null  float64\n",
      " 74  secondary_cleaner.state.floatbank3_a_level          16747 non-null  float64\n",
      " 75  secondary_cleaner.state.floatbank3_b_air            16752 non-null  float64\n",
      " 76  secondary_cleaner.state.floatbank3_b_level          16750 non-null  float64\n",
      " 77  secondary_cleaner.state.floatbank4_a_air            16731 non-null  float64\n",
      " 78  secondary_cleaner.state.floatbank4_a_level          16747 non-null  float64\n",
      " 79  secondary_cleaner.state.floatbank4_b_air            16768 non-null  float64\n",
      " 80  secondary_cleaner.state.floatbank4_b_level          16767 non-null  float64\n",
      " 81  secondary_cleaner.state.floatbank5_a_air            16775 non-null  float64\n",
      " 82  secondary_cleaner.state.floatbank5_a_level          16775 non-null  float64\n",
      " 83  secondary_cleaner.state.floatbank5_b_air            16775 non-null  float64\n",
      " 84  secondary_cleaner.state.floatbank5_b_level          16776 non-null  float64\n",
      " 85  secondary_cleaner.state.floatbank6_a_air            16757 non-null  float64\n",
      " 86  secondary_cleaner.state.floatbank6_a_level          16775 non-null  float64\n",
      "dtypes: float64(86), object(1)\n",
      "memory usage: 11.2+ MB\n"
     ]
    }
   ],
   "source": [
    "gr_train.info()"
   ]
  },
  {
   "cell_type": "code",
   "execution_count": 75,
   "metadata": {},
   "outputs": [],
   "source": [
    "#gr_test.info()"
   ]
  },
  {
   "cell_type": "code",
   "execution_count": 76,
   "metadata": {},
   "outputs": [
    {
     "name": "stdout",
     "output_type": "stream",
     "text": [
      "<class 'pandas.core.frame.DataFrame'>\n",
      "RangeIndex: 22716 entries, 0 to 22715\n",
      "Data columns (total 87 columns):\n",
      " #   Column                                              Non-Null Count  Dtype  \n",
      "---  ------                                              --------------  -----  \n",
      " 0   date                                                22716 non-null  object \n",
      " 1   final.output.concentrate_ag                         22627 non-null  float64\n",
      " 2   final.output.concentrate_pb                         22629 non-null  float64\n",
      " 3   final.output.concentrate_sol                        22331 non-null  float64\n",
      " 4   final.output.concentrate_au                         22630 non-null  float64\n",
      " 5   final.output.recovery                               20753 non-null  float64\n",
      " 6   final.output.tail_ag                                22633 non-null  float64\n",
      " 7   final.output.tail_pb                                22516 non-null  float64\n",
      " 8   final.output.tail_sol                               22445 non-null  float64\n",
      " 9   final.output.tail_au                                22635 non-null  float64\n",
      " 10  primary_cleaner.input.sulfate                       21107 non-null  float64\n",
      " 11  primary_cleaner.input.depressant                    21170 non-null  float64\n",
      " 12  primary_cleaner.input.feed_size                     22716 non-null  float64\n",
      " 13  primary_cleaner.input.xanthate                      21565 non-null  float64\n",
      " 14  primary_cleaner.output.concentrate_ag               22618 non-null  float64\n",
      " 15  primary_cleaner.output.concentrate_pb               22268 non-null  float64\n",
      " 16  primary_cleaner.output.concentrate_sol              21918 non-null  float64\n",
      " 17  primary_cleaner.output.concentrate_au               22618 non-null  float64\n",
      " 18  primary_cleaner.output.tail_ag                      22614 non-null  float64\n",
      " 19  primary_cleaner.output.tail_pb                      22594 non-null  float64\n",
      " 20  primary_cleaner.output.tail_sol                     22365 non-null  float64\n",
      " 21  primary_cleaner.output.tail_au                      22617 non-null  float64\n",
      " 22  primary_cleaner.state.floatbank8_a_air              22660 non-null  float64\n",
      " 23  primary_cleaner.state.floatbank8_a_level            22667 non-null  float64\n",
      " 24  primary_cleaner.state.floatbank8_b_air              22660 non-null  float64\n",
      " 25  primary_cleaner.state.floatbank8_b_level            22673 non-null  float64\n",
      " 26  primary_cleaner.state.floatbank8_c_air              22662 non-null  float64\n",
      " 27  primary_cleaner.state.floatbank8_c_level            22673 non-null  float64\n",
      " 28  primary_cleaner.state.floatbank8_d_air              22661 non-null  float64\n",
      " 29  primary_cleaner.state.floatbank8_d_level            22673 non-null  float64\n",
      " 30  rougher.calculation.sulfate_to_au_concentrate       22672 non-null  float64\n",
      " 31  rougher.calculation.floatbank10_sulfate_to_au_feed  22672 non-null  float64\n",
      " 32  rougher.calculation.floatbank11_sulfate_to_au_feed  22672 non-null  float64\n",
      " 33  rougher.calculation.au_pb_ratio                     21089 non-null  float64\n",
      " 34  rougher.input.feed_ag                               22618 non-null  float64\n",
      " 35  rougher.input.feed_pb                               22472 non-null  float64\n",
      " 36  rougher.input.feed_rate                             22163 non-null  float64\n",
      " 37  rougher.input.feed_size                             22277 non-null  float64\n",
      " 38  rougher.input.feed_sol                              22357 non-null  float64\n",
      " 39  rougher.input.feed_au                               22617 non-null  float64\n",
      " 40  rougher.input.floatbank10_sulfate                   21415 non-null  float64\n",
      " 41  rougher.input.floatbank10_xanthate                  22247 non-null  float64\n",
      " 42  rougher.input.floatbank11_sulfate                   22038 non-null  float64\n",
      " 43  rougher.input.floatbank11_xanthate                  20459 non-null  float64\n",
      " 44  rougher.output.concentrate_ag                       22618 non-null  float64\n",
      " 45  rougher.output.concentrate_pb                       22618 non-null  float64\n",
      " 46  rougher.output.concentrate_sol                      22526 non-null  float64\n",
      " 47  rougher.output.concentrate_au                       22618 non-null  float64\n",
      " 48  rougher.output.recovery                             19597 non-null  float64\n",
      " 49  rougher.output.tail_ag                              19979 non-null  float64\n",
      " 50  rougher.output.tail_pb                              22618 non-null  float64\n",
      " 51  rougher.output.tail_sol                             19980 non-null  float64\n",
      " 52  rougher.output.tail_au                              19980 non-null  float64\n",
      " 53  rougher.state.floatbank10_a_air                     22646 non-null  float64\n",
      " 54  rougher.state.floatbank10_a_level                   22647 non-null  float64\n",
      " 55  rougher.state.floatbank10_b_air                     22646 non-null  float64\n",
      " 56  rougher.state.floatbank10_b_level                   22647 non-null  float64\n",
      " 57  rougher.state.floatbank10_c_air                     22646 non-null  float64\n",
      " 58  rougher.state.floatbank10_c_level                   22654 non-null  float64\n",
      " 59  rougher.state.floatbank10_d_air                     22641 non-null  float64\n",
      " 60  rougher.state.floatbank10_d_level                   22649 non-null  float64\n",
      " 61  rougher.state.floatbank10_e_air                     22096 non-null  float64\n",
      " 62  rougher.state.floatbank10_e_level                   22649 non-null  float64\n",
      " 63  rougher.state.floatbank10_f_air                     22641 non-null  float64\n",
      " 64  rougher.state.floatbank10_f_level                   22642 non-null  float64\n",
      " 65  secondary_cleaner.output.tail_ag                    22616 non-null  float64\n",
      " 66  secondary_cleaner.output.tail_pb                    22600 non-null  float64\n",
      " 67  secondary_cleaner.output.tail_sol                   20501 non-null  float64\n",
      " 68  secondary_cleaner.output.tail_au                    22618 non-null  float64\n",
      " 69  secondary_cleaner.state.floatbank2_a_air            22333 non-null  float64\n",
      " 70  secondary_cleaner.state.floatbank2_a_level          22591 non-null  float64\n",
      " 71  secondary_cleaner.state.floatbank2_b_air            22538 non-null  float64\n",
      " 72  secondary_cleaner.state.floatbank2_b_level          22588 non-null  float64\n",
      " 73  secondary_cleaner.state.floatbank3_a_air            22585 non-null  float64\n",
      " 74  secondary_cleaner.state.floatbank3_a_level          22587 non-null  float64\n",
      " 75  secondary_cleaner.state.floatbank3_b_air            22592 non-null  float64\n",
      " 76  secondary_cleaner.state.floatbank3_b_level          22590 non-null  float64\n",
      " 77  secondary_cleaner.state.floatbank4_a_air            22571 non-null  float64\n",
      " 78  secondary_cleaner.state.floatbank4_a_level          22587 non-null  float64\n",
      " 79  secondary_cleaner.state.floatbank4_b_air            22608 non-null  float64\n",
      " 80  secondary_cleaner.state.floatbank4_b_level          22607 non-null  float64\n",
      " 81  secondary_cleaner.state.floatbank5_a_air            22615 non-null  float64\n",
      " 82  secondary_cleaner.state.floatbank5_a_level          22615 non-null  float64\n",
      " 83  secondary_cleaner.state.floatbank5_b_air            22615 non-null  float64\n",
      " 84  secondary_cleaner.state.floatbank5_b_level          22616 non-null  float64\n",
      " 85  secondary_cleaner.state.floatbank6_a_air            22597 non-null  float64\n",
      " 86  secondary_cleaner.state.floatbank6_a_level          22615 non-null  float64\n",
      "dtypes: float64(86), object(1)\n",
      "memory usage: 15.1+ MB\n"
     ]
    }
   ],
   "source": [
    "gr_full.info()"
   ]
  },
  {
   "cell_type": "markdown",
   "metadata": {},
   "source": [
    "### Check that recovery is calculated correctly"
   ]
  },
  {
   "cell_type": "markdown",
   "metadata": {},
   "source": [
    "Using the training set, calculate recovery for the rougher.output.recovery feature. \n",
    "\n",
    "Find the MAE between your calculations and the feature values."
   ]
  },
  {
   "cell_type": "markdown",
   "metadata": {},
   "source": [
    "Recovery calculation\n",
    "We need to simulate the process of recovering gold from gold ore.\n",
    "\n",
    "\n",
    "C — share of gold in the concentrate right after flotation (for finding the rougher concentrate recovery)/after purification (for finding the final concentrate recovery)\n",
    "\n",
    "F — share of gold in the feed before flotation (for finding the rougher concentrate recovery)/in the concentrate right after flotation (for finding the final concentrate recovery)\n",
    "\n",
    "T — share of gold in the rougher tails right after flotation (for finding the rougher concentrate recovery)/after purification (for finding the final concentrate recovery)\n"
   ]
  },
  {
   "cell_type": "code",
   "execution_count": 77,
   "metadata": {},
   "outputs": [
    {
     "data": {
      "text/html": [
       "<div>\n",
       "<style scoped>\n",
       "    .dataframe tbody tr th:only-of-type {\n",
       "        vertical-align: middle;\n",
       "    }\n",
       "\n",
       "    .dataframe tbody tr th {\n",
       "        vertical-align: top;\n",
       "    }\n",
       "\n",
       "    .dataframe thead th {\n",
       "        text-align: right;\n",
       "    }\n",
       "</style>\n",
       "<table border=\"1\" class=\"dataframe\">\n",
       "  <thead>\n",
       "    <tr style=\"text-align: right;\">\n",
       "      <th></th>\n",
       "      <th>date</th>\n",
       "      <th>final.output.concentrate_ag</th>\n",
       "      <th>final.output.concentrate_pb</th>\n",
       "      <th>final.output.concentrate_sol</th>\n",
       "      <th>final.output.concentrate_au</th>\n",
       "      <th>final.output.recovery</th>\n",
       "      <th>final.output.tail_ag</th>\n",
       "      <th>final.output.tail_pb</th>\n",
       "      <th>final.output.tail_sol</th>\n",
       "      <th>final.output.tail_au</th>\n",
       "      <th>...</th>\n",
       "      <th>secondary_cleaner.state.floatbank4_a_level</th>\n",
       "      <th>secondary_cleaner.state.floatbank4_b_air</th>\n",
       "      <th>secondary_cleaner.state.floatbank4_b_level</th>\n",
       "      <th>secondary_cleaner.state.floatbank5_a_air</th>\n",
       "      <th>secondary_cleaner.state.floatbank5_a_level</th>\n",
       "      <th>secondary_cleaner.state.floatbank5_b_air</th>\n",
       "      <th>secondary_cleaner.state.floatbank5_b_level</th>\n",
       "      <th>secondary_cleaner.state.floatbank6_a_air</th>\n",
       "      <th>secondary_cleaner.state.floatbank6_a_level</th>\n",
       "      <th>recovery_check</th>\n",
       "    </tr>\n",
       "  </thead>\n",
       "  <tbody>\n",
       "    <tr>\n",
       "      <th>0</th>\n",
       "      <td>2016-01-15 00:00:00</td>\n",
       "      <td>6.055403</td>\n",
       "      <td>9.889648</td>\n",
       "      <td>5.507324</td>\n",
       "      <td>42.192020</td>\n",
       "      <td>70.541216</td>\n",
       "      <td>10.411962</td>\n",
       "      <td>0.895447</td>\n",
       "      <td>16.904297</td>\n",
       "      <td>2.143149</td>\n",
       "      <td>...</td>\n",
       "      <td>-502.488007</td>\n",
       "      <td>12.099931</td>\n",
       "      <td>-504.715942</td>\n",
       "      <td>9.925633</td>\n",
       "      <td>-498.310211</td>\n",
       "      <td>8.079666</td>\n",
       "      <td>-500.470978</td>\n",
       "      <td>14.151341</td>\n",
       "      <td>-605.841980</td>\n",
       "      <td>87.107763</td>\n",
       "    </tr>\n",
       "    <tr>\n",
       "      <th>1</th>\n",
       "      <td>2016-01-15 01:00:00</td>\n",
       "      <td>6.029369</td>\n",
       "      <td>9.968944</td>\n",
       "      <td>5.257781</td>\n",
       "      <td>42.701629</td>\n",
       "      <td>69.266198</td>\n",
       "      <td>10.462676</td>\n",
       "      <td>0.927452</td>\n",
       "      <td>16.634514</td>\n",
       "      <td>2.224930</td>\n",
       "      <td>...</td>\n",
       "      <td>-505.503262</td>\n",
       "      <td>11.950531</td>\n",
       "      <td>-501.331529</td>\n",
       "      <td>10.039245</td>\n",
       "      <td>-500.169983</td>\n",
       "      <td>7.984757</td>\n",
       "      <td>-500.582168</td>\n",
       "      <td>13.998353</td>\n",
       "      <td>-599.787184</td>\n",
       "      <td>86.843261</td>\n",
       "    </tr>\n",
       "    <tr>\n",
       "      <th>2</th>\n",
       "      <td>2016-01-15 02:00:00</td>\n",
       "      <td>6.055926</td>\n",
       "      <td>10.213995</td>\n",
       "      <td>5.383759</td>\n",
       "      <td>42.657501</td>\n",
       "      <td>68.116445</td>\n",
       "      <td>10.507046</td>\n",
       "      <td>0.953716</td>\n",
       "      <td>16.208849</td>\n",
       "      <td>2.257889</td>\n",
       "      <td>...</td>\n",
       "      <td>-502.520901</td>\n",
       "      <td>11.912783</td>\n",
       "      <td>-501.133383</td>\n",
       "      <td>10.070913</td>\n",
       "      <td>-500.129135</td>\n",
       "      <td>8.013877</td>\n",
       "      <td>-500.517572</td>\n",
       "      <td>14.028663</td>\n",
       "      <td>-601.427363</td>\n",
       "      <td>86.842308</td>\n",
       "    </tr>\n",
       "    <tr>\n",
       "      <th>3</th>\n",
       "      <td>2016-01-15 03:00:00</td>\n",
       "      <td>6.047977</td>\n",
       "      <td>9.977019</td>\n",
       "      <td>4.858634</td>\n",
       "      <td>42.689819</td>\n",
       "      <td>68.347543</td>\n",
       "      <td>10.422762</td>\n",
       "      <td>0.883763</td>\n",
       "      <td>16.532835</td>\n",
       "      <td>2.146849</td>\n",
       "      <td>...</td>\n",
       "      <td>-500.857308</td>\n",
       "      <td>11.999550</td>\n",
       "      <td>-501.193686</td>\n",
       "      <td>9.970366</td>\n",
       "      <td>-499.201640</td>\n",
       "      <td>7.977324</td>\n",
       "      <td>-500.255908</td>\n",
       "      <td>14.005551</td>\n",
       "      <td>-599.996129</td>\n",
       "      <td>87.226430</td>\n",
       "    </tr>\n",
       "    <tr>\n",
       "      <th>4</th>\n",
       "      <td>2016-01-15 04:00:00</td>\n",
       "      <td>6.148599</td>\n",
       "      <td>10.142511</td>\n",
       "      <td>4.939416</td>\n",
       "      <td>42.774141</td>\n",
       "      <td>66.927016</td>\n",
       "      <td>10.360302</td>\n",
       "      <td>0.792826</td>\n",
       "      <td>16.525686</td>\n",
       "      <td>2.055292</td>\n",
       "      <td>...</td>\n",
       "      <td>-499.838632</td>\n",
       "      <td>11.953070</td>\n",
       "      <td>-501.053894</td>\n",
       "      <td>9.925709</td>\n",
       "      <td>-501.686727</td>\n",
       "      <td>7.894242</td>\n",
       "      <td>-500.356035</td>\n",
       "      <td>13.996647</td>\n",
       "      <td>-601.496691</td>\n",
       "      <td>86.688794</td>\n",
       "    </tr>\n",
       "  </tbody>\n",
       "</table>\n",
       "<p>5 rows × 88 columns</p>\n",
       "</div>"
      ],
      "text/plain": [
       "                  date  final.output.concentrate_ag  \\\n",
       "0  2016-01-15 00:00:00                     6.055403   \n",
       "1  2016-01-15 01:00:00                     6.029369   \n",
       "2  2016-01-15 02:00:00                     6.055926   \n",
       "3  2016-01-15 03:00:00                     6.047977   \n",
       "4  2016-01-15 04:00:00                     6.148599   \n",
       "\n",
       "   final.output.concentrate_pb  final.output.concentrate_sol  \\\n",
       "0                     9.889648                      5.507324   \n",
       "1                     9.968944                      5.257781   \n",
       "2                    10.213995                      5.383759   \n",
       "3                     9.977019                      4.858634   \n",
       "4                    10.142511                      4.939416   \n",
       "\n",
       "   final.output.concentrate_au  final.output.recovery  final.output.tail_ag  \\\n",
       "0                    42.192020              70.541216             10.411962   \n",
       "1                    42.701629              69.266198             10.462676   \n",
       "2                    42.657501              68.116445             10.507046   \n",
       "3                    42.689819              68.347543             10.422762   \n",
       "4                    42.774141              66.927016             10.360302   \n",
       "\n",
       "   final.output.tail_pb  final.output.tail_sol  final.output.tail_au  ...  \\\n",
       "0              0.895447              16.904297              2.143149  ...   \n",
       "1              0.927452              16.634514              2.224930  ...   \n",
       "2              0.953716              16.208849              2.257889  ...   \n",
       "3              0.883763              16.532835              2.146849  ...   \n",
       "4              0.792826              16.525686              2.055292  ...   \n",
       "\n",
       "   secondary_cleaner.state.floatbank4_a_level  \\\n",
       "0                                 -502.488007   \n",
       "1                                 -505.503262   \n",
       "2                                 -502.520901   \n",
       "3                                 -500.857308   \n",
       "4                                 -499.838632   \n",
       "\n",
       "   secondary_cleaner.state.floatbank4_b_air  \\\n",
       "0                                 12.099931   \n",
       "1                                 11.950531   \n",
       "2                                 11.912783   \n",
       "3                                 11.999550   \n",
       "4                                 11.953070   \n",
       "\n",
       "   secondary_cleaner.state.floatbank4_b_level  \\\n",
       "0                                 -504.715942   \n",
       "1                                 -501.331529   \n",
       "2                                 -501.133383   \n",
       "3                                 -501.193686   \n",
       "4                                 -501.053894   \n",
       "\n",
       "   secondary_cleaner.state.floatbank5_a_air  \\\n",
       "0                                  9.925633   \n",
       "1                                 10.039245   \n",
       "2                                 10.070913   \n",
       "3                                  9.970366   \n",
       "4                                  9.925709   \n",
       "\n",
       "   secondary_cleaner.state.floatbank5_a_level  \\\n",
       "0                                 -498.310211   \n",
       "1                                 -500.169983   \n",
       "2                                 -500.129135   \n",
       "3                                 -499.201640   \n",
       "4                                 -501.686727   \n",
       "\n",
       "   secondary_cleaner.state.floatbank5_b_air  \\\n",
       "0                                  8.079666   \n",
       "1                                  7.984757   \n",
       "2                                  8.013877   \n",
       "3                                  7.977324   \n",
       "4                                  7.894242   \n",
       "\n",
       "   secondary_cleaner.state.floatbank5_b_level  \\\n",
       "0                                 -500.470978   \n",
       "1                                 -500.582168   \n",
       "2                                 -500.517572   \n",
       "3                                 -500.255908   \n",
       "4                                 -500.356035   \n",
       "\n",
       "   secondary_cleaner.state.floatbank6_a_air  \\\n",
       "0                                 14.151341   \n",
       "1                                 13.998353   \n",
       "2                                 14.028663   \n",
       "3                                 14.005551   \n",
       "4                                 13.996647   \n",
       "\n",
       "   secondary_cleaner.state.floatbank6_a_level  recovery_check  \n",
       "0                                 -605.841980       87.107763  \n",
       "1                                 -599.787184       86.843261  \n",
       "2                                 -601.427363       86.842308  \n",
       "3                                 -599.996129       87.226430  \n",
       "4                                 -601.496691       86.688794  \n",
       "\n",
       "[5 rows x 88 columns]"
      ]
     },
     "execution_count": 77,
     "metadata": {},
     "output_type": "execute_result"
    }
   ],
   "source": [
    "C = gr_train['rougher.output.concentrate_au']\n",
    "F = gr_train['rougher.input.feed_au']\n",
    "T = gr_train['rougher.output.tail_au']\n",
    "gr_train['recovery_check'] = ((C*(F-T))/(F*(C-T)))*100\n",
    "gr_train.head(5)"
   ]
  },
  {
   "cell_type": "code",
   "execution_count": 78,
   "metadata": {},
   "outputs": [
    {
     "data": {
      "text/plain": [
       "9.303415616264301e-15"
      ]
     },
     "execution_count": 78,
     "metadata": {},
     "output_type": "execute_result"
    }
   ],
   "source": [
    "diff = abs(gr_train['recovery_check']- gr_train['rougher.output.recovery'])\n",
    "diff = diff.dropna()\n",
    "MAE = (diff.sum())/len(diff)\n",
    "MAE"
   ]
  },
  {
   "cell_type": "markdown",
   "metadata": {},
   "source": [
    "**We can assume that recovery is calculated correctly.**"
   ]
  },
  {
   "cell_type": "markdown",
   "metadata": {},
   "source": [
    "### Analyze the features not available in the test set"
   ]
  },
  {
   "cell_type": "code",
   "execution_count": 79,
   "metadata": {},
   "outputs": [
    {
     "name": "stdout",
     "output_type": "stream",
     "text": [
      "<class 'pandas.core.frame.DataFrame'>\n",
      "RangeIndex: 5856 entries, 0 to 5855\n",
      "Data columns (total 53 columns):\n",
      " #   Column                                      Non-Null Count  Dtype  \n",
      "---  ------                                      --------------  -----  \n",
      " 0   date                                        5856 non-null   object \n",
      " 1   primary_cleaner.input.sulfate               5554 non-null   float64\n",
      " 2   primary_cleaner.input.depressant            5572 non-null   float64\n",
      " 3   primary_cleaner.input.feed_size             5856 non-null   float64\n",
      " 4   primary_cleaner.input.xanthate              5690 non-null   float64\n",
      " 5   primary_cleaner.state.floatbank8_a_air      5840 non-null   float64\n",
      " 6   primary_cleaner.state.floatbank8_a_level    5840 non-null   float64\n",
      " 7   primary_cleaner.state.floatbank8_b_air      5840 non-null   float64\n",
      " 8   primary_cleaner.state.floatbank8_b_level    5840 non-null   float64\n",
      " 9   primary_cleaner.state.floatbank8_c_air      5840 non-null   float64\n",
      " 10  primary_cleaner.state.floatbank8_c_level    5840 non-null   float64\n",
      " 11  primary_cleaner.state.floatbank8_d_air      5840 non-null   float64\n",
      " 12  primary_cleaner.state.floatbank8_d_level    5840 non-null   float64\n",
      " 13  rougher.input.feed_ag                       5840 non-null   float64\n",
      " 14  rougher.input.feed_pb                       5840 non-null   float64\n",
      " 15  rougher.input.feed_rate                     5816 non-null   float64\n",
      " 16  rougher.input.feed_size                     5834 non-null   float64\n",
      " 17  rougher.input.feed_sol                      5789 non-null   float64\n",
      " 18  rougher.input.feed_au                       5840 non-null   float64\n",
      " 19  rougher.input.floatbank10_sulfate           5599 non-null   float64\n",
      " 20  rougher.input.floatbank10_xanthate          5733 non-null   float64\n",
      " 21  rougher.input.floatbank11_sulfate           5801 non-null   float64\n",
      " 22  rougher.input.floatbank11_xanthate          5503 non-null   float64\n",
      " 23  rougher.state.floatbank10_a_air             5839 non-null   float64\n",
      " 24  rougher.state.floatbank10_a_level           5840 non-null   float64\n",
      " 25  rougher.state.floatbank10_b_air             5839 non-null   float64\n",
      " 26  rougher.state.floatbank10_b_level           5840 non-null   float64\n",
      " 27  rougher.state.floatbank10_c_air             5839 non-null   float64\n",
      " 28  rougher.state.floatbank10_c_level           5840 non-null   float64\n",
      " 29  rougher.state.floatbank10_d_air             5839 non-null   float64\n",
      " 30  rougher.state.floatbank10_d_level           5840 non-null   float64\n",
      " 31  rougher.state.floatbank10_e_air             5839 non-null   float64\n",
      " 32  rougher.state.floatbank10_e_level           5840 non-null   float64\n",
      " 33  rougher.state.floatbank10_f_air             5839 non-null   float64\n",
      " 34  rougher.state.floatbank10_f_level           5840 non-null   float64\n",
      " 35  secondary_cleaner.state.floatbank2_a_air    5836 non-null   float64\n",
      " 36  secondary_cleaner.state.floatbank2_a_level  5840 non-null   float64\n",
      " 37  secondary_cleaner.state.floatbank2_b_air    5833 non-null   float64\n",
      " 38  secondary_cleaner.state.floatbank2_b_level  5840 non-null   float64\n",
      " 39  secondary_cleaner.state.floatbank3_a_air    5822 non-null   float64\n",
      " 40  secondary_cleaner.state.floatbank3_a_level  5840 non-null   float64\n",
      " 41  secondary_cleaner.state.floatbank3_b_air    5840 non-null   float64\n",
      " 42  secondary_cleaner.state.floatbank3_b_level  5840 non-null   float64\n",
      " 43  secondary_cleaner.state.floatbank4_a_air    5840 non-null   float64\n",
      " 44  secondary_cleaner.state.floatbank4_a_level  5840 non-null   float64\n",
      " 45  secondary_cleaner.state.floatbank4_b_air    5840 non-null   float64\n",
      " 46  secondary_cleaner.state.floatbank4_b_level  5840 non-null   float64\n",
      " 47  secondary_cleaner.state.floatbank5_a_air    5840 non-null   float64\n",
      " 48  secondary_cleaner.state.floatbank5_a_level  5840 non-null   float64\n",
      " 49  secondary_cleaner.state.floatbank5_b_air    5840 non-null   float64\n",
      " 50  secondary_cleaner.state.floatbank5_b_level  5840 non-null   float64\n",
      " 51  secondary_cleaner.state.floatbank6_a_air    5840 non-null   float64\n",
      " 52  secondary_cleaner.state.floatbank6_a_level  5840 non-null   float64\n",
      "dtypes: float64(52), object(1)\n",
      "memory usage: 2.4+ MB\n"
     ]
    }
   ],
   "source": [
    "gr_test.info()"
   ]
  },
  {
   "cell_type": "code",
   "execution_count": 80,
   "metadata": {},
   "outputs": [
    {
     "data": {
      "text/plain": [
       "Index(['final.output.concentrate_ag', 'final.output.concentrate_au',\n",
       "       'final.output.concentrate_pb', 'final.output.concentrate_sol',\n",
       "       'final.output.recovery', 'final.output.tail_ag', 'final.output.tail_au',\n",
       "       'final.output.tail_pb', 'final.output.tail_sol',\n",
       "       'primary_cleaner.output.concentrate_ag',\n",
       "       'primary_cleaner.output.concentrate_au',\n",
       "       'primary_cleaner.output.concentrate_pb',\n",
       "       'primary_cleaner.output.concentrate_sol',\n",
       "       'primary_cleaner.output.tail_ag', 'primary_cleaner.output.tail_au',\n",
       "       'primary_cleaner.output.tail_pb', 'primary_cleaner.output.tail_sol',\n",
       "       'rougher.calculation.au_pb_ratio',\n",
       "       'rougher.calculation.floatbank10_sulfate_to_au_feed',\n",
       "       'rougher.calculation.floatbank11_sulfate_to_au_feed',\n",
       "       'rougher.calculation.sulfate_to_au_concentrate',\n",
       "       'rougher.output.concentrate_ag', 'rougher.output.concentrate_au',\n",
       "       'rougher.output.concentrate_pb', 'rougher.output.concentrate_sol',\n",
       "       'rougher.output.recovery', 'rougher.output.tail_ag',\n",
       "       'rougher.output.tail_au', 'rougher.output.tail_pb',\n",
       "       'rougher.output.tail_sol', 'secondary_cleaner.output.tail_ag',\n",
       "       'secondary_cleaner.output.tail_au', 'secondary_cleaner.output.tail_pb',\n",
       "       'secondary_cleaner.output.tail_sol'],\n",
       "      dtype='object')"
      ]
     },
     "execution_count": 80,
     "metadata": {},
     "output_type": "execute_result"
    }
   ],
   "source": [
    "try:\n",
    "    gr_train = pd.read_csv('gold_recovery_train.csv')\n",
    "except:\n",
    "    gr_train = pd.read_csv('/datasets/gold_recovery_train.csv')\n",
    "\n",
    "train_cols = gr_train.columns\n",
    "test_cols = gr_test.columns\n",
    "\n",
    "common_cols = train_cols.intersection(test_cols)\n",
    "train_not_test = train_cols.difference(test_cols)\n",
    "train_not_test"
   ]
  },
  {
   "cell_type": "markdown",
   "metadata": {},
   "source": [
    "**The features that are not available in the test set are the ones that reference the outputs at different stages. All the calculated features are missing. The only ones left are the inputs.**"
   ]
  },
  {
   "cell_type": "markdown",
   "metadata": {},
   "source": [
    "### Data preprocessing"
   ]
  },
  {
   "cell_type": "markdown",
   "metadata": {},
   "source": [
    "**Change datatype**"
   ]
  },
  {
   "cell_type": "code",
   "execution_count": 81,
   "metadata": {},
   "outputs": [],
   "source": [
    "#gr_train['date'] = pd.to_datetime(gr_train['date'])\n",
    "#gr_test['date'] = pd.to_datetime(gr_train['date'])\n",
    "#gr_full['date'] = pd.to_datetime(gr_train['date'])"
   ]
  },
  {
   "cell_type": "markdown",
   "metadata": {},
   "source": [
    "**Fill in missing values**"
   ]
  },
  {
   "cell_type": "markdown",
   "metadata": {},
   "source": [
    "Data is indexed with the date and time of acquisition (date feature). Parameters that are next to each other in terms of time are often similar. We will use that for the missing values. "
   ]
  },
  {
   "cell_type": "code",
   "execution_count": 82,
   "metadata": {},
   "outputs": [],
   "source": [
    "targets = ['rougher.output.recovery', 'final.output.recovery']\n",
    "features = [x for x in gr_full if x not in targets and x != 'date']"
   ]
  },
  {
   "cell_type": "code",
   "execution_count": 83,
   "metadata": {},
   "outputs": [],
   "source": [
    "gr_full[features] = gr_full[features].fillna(method='ffill')"
   ]
  },
  {
   "cell_type": "code",
   "execution_count": 84,
   "metadata": {},
   "outputs": [
    {
     "data": {
      "text/plain": [
       "rougher.output.recovery    3119\n",
       "final.output.recovery      1963\n",
       "dtype: int64"
      ]
     },
     "execution_count": 84,
     "metadata": {},
     "output_type": "execute_result"
    }
   ],
   "source": [
    "gr_full[targets].isna().sum()"
   ]
  },
  {
   "cell_type": "code",
   "execution_count": 85,
   "metadata": {},
   "outputs": [],
   "source": [
    "gr_test = pd.merge(gr_test, gr_full[['date', 'final.output.recovery', 'rougher.output.recovery']],\n",
    "                     on='date',\n",
    "                     how='left'\n",
    "                    )\n",
    "\n",
    "\n",
    "gr_train = gr_train.drop(columns=[x for x in gr_train if x not in gr_test], axis=1)\n",
    "\n",
    "\n",
    "gr_test = gr_test.drop(columns=[x for x in gr_test if x not in gr_train], axis=1)"
   ]
  },
  {
   "cell_type": "code",
   "execution_count": 86,
   "metadata": {},
   "outputs": [],
   "source": [
    "#Create a MinMaxScaler instance.\n",
    "scaler = MinMaxScaler()\n",
    "\n",
    "#Create lists for columns to scale and not to scale.\n",
    "scale_columns = [x for x in gr_train.columns if x  not in ['date', 'rougher.output.recovery', 'final.output.recovery']]\n",
    "non_scale_columns = ['date', 'rougher.output.recovery', 'final.output.recovery']\n",
    "\n",
    "#Scale data in scale_columns for training and testing datasets.\n",
    "gr_train_scaled = pd.DataFrame(scaler.fit_transform(gr_train[scale_columns].copy()), columns = scale_columns)\n",
    "gr_test_scaled = pd.DataFrame(scaler.transform(gr_test[scale_columns].copy()), columns = scale_columns)"
   ]
  },
  {
   "cell_type": "code",
   "execution_count": 87,
   "metadata": {},
   "outputs": [
    {
     "name": "stdout",
     "output_type": "stream",
     "text": [
      "CPU times: user 17.3 s, sys: 2.63 s, total: 19.9 s\n",
      "Wall time: 20 s\n"
     ]
    }
   ],
   "source": [
    "%%time\n",
    "#Create instance of KNNImputer class.\n",
    "imputer = KNNImputer()\n",
    "\n",
    "#Scale values in both DataFrames and add the 'date' column back to each.\n",
    "gr_train_scaled = pd.concat([gr_train[non_scale_columns]] + \\\n",
    "                              [pd.DataFrame(imputer.fit_transform(gr_train_scaled), \\\n",
    "                               columns=gr_train_scaled.columns)], axis = 1)\n",
    "\n",
    "gr_test_scaled = pd.concat([gr_test[non_scale_columns]] + \\\n",
    "                             [pd.DataFrame(imputer.transform(gr_test_scaled), \\\n",
    "                              columns=gr_test_scaled.columns)], axis = 1)"
   ]
  },
  {
   "cell_type": "code",
   "execution_count": 88,
   "metadata": {},
   "outputs": [],
   "source": [
    "#Drop rows with NaNs in target columns.\n",
    "gr_train_scaled = gr_train_scaled.dropna().reset_index(drop=True)\n",
    "gr_test_scaled = gr_test_scaled.dropna().reset_index(drop=True)"
   ]
  },
  {
   "cell_type": "code",
   "execution_count": 89,
   "metadata": {},
   "outputs": [
    {
     "data": {
      "text/plain": [
       "date                                          0\n",
       "rougher.output.recovery                       0\n",
       "final.output.recovery                         0\n",
       "primary_cleaner.input.sulfate                 0\n",
       "primary_cleaner.input.depressant              0\n",
       "primary_cleaner.input.feed_size               0\n",
       "primary_cleaner.input.xanthate                0\n",
       "primary_cleaner.state.floatbank8_a_air        0\n",
       "primary_cleaner.state.floatbank8_a_level      0\n",
       "primary_cleaner.state.floatbank8_b_air        0\n",
       "primary_cleaner.state.floatbank8_b_level      0\n",
       "primary_cleaner.state.floatbank8_c_air        0\n",
       "primary_cleaner.state.floatbank8_c_level      0\n",
       "primary_cleaner.state.floatbank8_d_air        0\n",
       "primary_cleaner.state.floatbank8_d_level      0\n",
       "rougher.input.feed_ag                         0\n",
       "rougher.input.feed_pb                         0\n",
       "rougher.input.feed_rate                       0\n",
       "rougher.input.feed_size                       0\n",
       "rougher.input.feed_sol                        0\n",
       "rougher.input.feed_au                         0\n",
       "rougher.input.floatbank10_sulfate             0\n",
       "rougher.input.floatbank10_xanthate            0\n",
       "rougher.input.floatbank11_sulfate             0\n",
       "rougher.input.floatbank11_xanthate            0\n",
       "rougher.state.floatbank10_a_air               0\n",
       "rougher.state.floatbank10_a_level             0\n",
       "rougher.state.floatbank10_b_air               0\n",
       "rougher.state.floatbank10_b_level             0\n",
       "rougher.state.floatbank10_c_air               0\n",
       "rougher.state.floatbank10_c_level             0\n",
       "rougher.state.floatbank10_d_air               0\n",
       "rougher.state.floatbank10_d_level             0\n",
       "rougher.state.floatbank10_e_air               0\n",
       "rougher.state.floatbank10_e_level             0\n",
       "rougher.state.floatbank10_f_air               0\n",
       "rougher.state.floatbank10_f_level             0\n",
       "secondary_cleaner.state.floatbank2_a_air      0\n",
       "secondary_cleaner.state.floatbank2_a_level    0\n",
       "secondary_cleaner.state.floatbank2_b_air      0\n",
       "secondary_cleaner.state.floatbank2_b_level    0\n",
       "secondary_cleaner.state.floatbank3_a_air      0\n",
       "secondary_cleaner.state.floatbank3_a_level    0\n",
       "secondary_cleaner.state.floatbank3_b_air      0\n",
       "secondary_cleaner.state.floatbank3_b_level    0\n",
       "secondary_cleaner.state.floatbank4_a_air      0\n",
       "secondary_cleaner.state.floatbank4_a_level    0\n",
       "secondary_cleaner.state.floatbank4_b_air      0\n",
       "secondary_cleaner.state.floatbank4_b_level    0\n",
       "secondary_cleaner.state.floatbank5_a_air      0\n",
       "secondary_cleaner.state.floatbank5_a_level    0\n",
       "secondary_cleaner.state.floatbank5_b_air      0\n",
       "secondary_cleaner.state.floatbank5_b_level    0\n",
       "secondary_cleaner.state.floatbank6_a_air      0\n",
       "secondary_cleaner.state.floatbank6_a_level    0\n",
       "dtype: int64"
      ]
     },
     "execution_count": 89,
     "metadata": {},
     "output_type": "execute_result"
    }
   ],
   "source": [
    "gr_train_scaled.isna().sum()"
   ]
  },
  {
   "cell_type": "code",
   "execution_count": 90,
   "metadata": {},
   "outputs": [
    {
     "data": {
      "text/plain": [
       "date                                          0\n",
       "rougher.output.recovery                       0\n",
       "final.output.recovery                         0\n",
       "primary_cleaner.input.sulfate                 0\n",
       "primary_cleaner.input.depressant              0\n",
       "primary_cleaner.input.feed_size               0\n",
       "primary_cleaner.input.xanthate                0\n",
       "primary_cleaner.state.floatbank8_a_air        0\n",
       "primary_cleaner.state.floatbank8_a_level      0\n",
       "primary_cleaner.state.floatbank8_b_air        0\n",
       "primary_cleaner.state.floatbank8_b_level      0\n",
       "primary_cleaner.state.floatbank8_c_air        0\n",
       "primary_cleaner.state.floatbank8_c_level      0\n",
       "primary_cleaner.state.floatbank8_d_air        0\n",
       "primary_cleaner.state.floatbank8_d_level      0\n",
       "rougher.input.feed_ag                         0\n",
       "rougher.input.feed_pb                         0\n",
       "rougher.input.feed_rate                       0\n",
       "rougher.input.feed_size                       0\n",
       "rougher.input.feed_sol                        0\n",
       "rougher.input.feed_au                         0\n",
       "rougher.input.floatbank10_sulfate             0\n",
       "rougher.input.floatbank10_xanthate            0\n",
       "rougher.input.floatbank11_sulfate             0\n",
       "rougher.input.floatbank11_xanthate            0\n",
       "rougher.state.floatbank10_a_air               0\n",
       "rougher.state.floatbank10_a_level             0\n",
       "rougher.state.floatbank10_b_air               0\n",
       "rougher.state.floatbank10_b_level             0\n",
       "rougher.state.floatbank10_c_air               0\n",
       "rougher.state.floatbank10_c_level             0\n",
       "rougher.state.floatbank10_d_air               0\n",
       "rougher.state.floatbank10_d_level             0\n",
       "rougher.state.floatbank10_e_air               0\n",
       "rougher.state.floatbank10_e_level             0\n",
       "rougher.state.floatbank10_f_air               0\n",
       "rougher.state.floatbank10_f_level             0\n",
       "secondary_cleaner.state.floatbank2_a_air      0\n",
       "secondary_cleaner.state.floatbank2_a_level    0\n",
       "secondary_cleaner.state.floatbank2_b_air      0\n",
       "secondary_cleaner.state.floatbank2_b_level    0\n",
       "secondary_cleaner.state.floatbank3_a_air      0\n",
       "secondary_cleaner.state.floatbank3_a_level    0\n",
       "secondary_cleaner.state.floatbank3_b_air      0\n",
       "secondary_cleaner.state.floatbank3_b_level    0\n",
       "secondary_cleaner.state.floatbank4_a_air      0\n",
       "secondary_cleaner.state.floatbank4_a_level    0\n",
       "secondary_cleaner.state.floatbank4_b_air      0\n",
       "secondary_cleaner.state.floatbank4_b_level    0\n",
       "secondary_cleaner.state.floatbank5_a_air      0\n",
       "secondary_cleaner.state.floatbank5_a_level    0\n",
       "secondary_cleaner.state.floatbank5_b_air      0\n",
       "secondary_cleaner.state.floatbank5_b_level    0\n",
       "secondary_cleaner.state.floatbank6_a_air      0\n",
       "secondary_cleaner.state.floatbank6_a_level    0\n",
       "dtype: int64"
      ]
     },
     "execution_count": 90,
     "metadata": {},
     "output_type": "execute_result"
    }
   ],
   "source": [
    "gr_test_scaled.isna().sum()"
   ]
  },
  {
   "cell_type": "markdown",
   "metadata": {},
   "source": [
    "## Analyze the data"
   ]
  },
  {
   "cell_type": "markdown",
   "metadata": {},
   "source": [
    "### Concentrations of metals (Au, Ag, Pb) change depending on the purification stage"
   ]
  },
  {
   "cell_type": "code",
   "execution_count": 91,
   "metadata": {},
   "outputs": [
    {
     "data": {
      "image/png": "[encoded data removed]",
      "text/plain": [
       "<Figure size 936x1080 with 3 Axes>"
      ]
     },
     "metadata": {},
     "output_type": "display_data"
    }
   ],
   "source": [
    "#Create list of variable handles to examine for each metal.\n",
    "concen = [\"rougher.input.feed\", \"rougher.output.concentrate\", \"primary_cleaner.output.concentrate\",\"secondary_cleaner.output.tail\", \"final.output.concentrate\"]\n",
    "\n",
    "#Create dictionary to map each metal's unique variable identifier with it's name.\n",
    "metals = {'_au' : 'Gold', '_ag' : 'Silver', '_pb' : 'Lead'}\n",
    "\n",
    "#Create subplots to visualize each metals concentration after each purification stage.\n",
    "fig, axes = plt.subplots(nrows=3, ncols=1, figsize=(13, 15), sharey=False)\n",
    "fig.suptitle('Change in Metal Concentration by Purification Stage (Density)', fontsize=15, y=1)\n",
    "\n",
    "for x in metals.keys():\n",
    "    for c in concen:\n",
    "        ax = list(metals.keys()).index(x)\n",
    "        sns.kdeplot(gr_full[(c+x)], ax=axes[ax], shade='fill', label=(c+x))\n",
    "        axes[ax].legend()\n",
    "        axes[ax].set_xlabel(metals[x] + ' Concentration (%)', fontsize=12, labelpad = 10)\n",
    "        axes[ax].xaxis.set_label_position('top')\n",
    "        axes[ax].set_ylabel('Density', fontsize=12)\n",
    "\n",
    "plt.tight_layout()\n",
    "plt.show()"
   ]
  },
  {
   "cell_type": "markdown",
   "metadata": {},
   "source": [
    "As expected the concentration of gold increases after each purification stage.\n",
    "\n",
    "We can notice that there are many zeros in our data. it's hard to say if it's not abnormal or missing values. These values can be considered as outliers."
   ]
  },
  {
   "cell_type": "code",
   "execution_count": 92,
   "metadata": {},
   "outputs": [
    {
     "data": {
      "image/png": "[encoded data removed]",
      "text/plain": [
       "<Figure size 1152x432 with 1 Axes>"
      ]
     },
     "metadata": {},
     "output_type": "display_data"
    }
   ],
   "source": [
    "name_conc = np.array([['rougher.output.concentrate_au', 'primary_cleaner.output.concentrate_au', 'final.output.concentrate_au'],\n",
    "                      ['rougher.output.concentrate_ag', 'primary_cleaner.output.concentrate_ag', 'final.output.concentrate_ag'],\n",
    "                      ['rougher.output.concentrate_pb', 'primary_cleaner.output.concentrate_pb', 'final.output.concentrate_pb']]\n",
    "                    )\n",
    "name_stage = ['rougher', 'primary', 'final']\n",
    "me=['Au', 'Ag', 'Pb']\n",
    "sns.set()\n",
    "f, axes = plt.subplots(1, 1, figsize=(16, 6))\n",
    "axes.set_title('Change in Metal Concentration by Purification Stage (Average)', fontsize=18)\n",
    "axes.set_ylabel('Concentration', fontsize=15)\n",
    "axes.set_xlabel('Purification Stage', fontsize=15)\n",
    "for cons, met in zip(name_conc, me):\n",
    "    sns.lineplot(data = pd.Series(gr_full[cons].mean().values, index=name_stage),legend = 'full',label = met)\n",
    "\n",
    "plt.show()"
   ]
  },
  {
   "cell_type": "markdown",
   "metadata": {},
   "source": [
    "Average concentration of gold increases with each stage, other metals seem to stay within the same range."
   ]
  },
  {
   "cell_type": "markdown",
   "metadata": {},
   "source": [
    "### Feed particle size distributions "
   ]
  },
  {
   "cell_type": "code",
   "execution_count": 93,
   "metadata": {},
   "outputs": [
    {
     "data": {
      "image/png": "[encoded data removed]",
      "text/plain": [
       "<Figure size 1080x432 with 1 Axes>"
      ]
     },
     "metadata": {},
     "output_type": "display_data"
    }
   ],
   "source": [
    "fig = plt.figure(figsize=(15, 6))\n",
    "fig.suptitle('Distribution of Primary Cleaner and Rougher Input Feed_Size Values (Density)', fontsize=15, y=1)\n",
    "\n",
    "sns.kdeplot(gr_train_scaled['primary_cleaner.input.feed_size'], fill=True, label='Train - Primary Feed Size')\n",
    "sns.kdeplot(gr_test_scaled['primary_cleaner.input.feed_size'], fill=True, label='Test - Primary Feed Size')\n",
    "sns.kdeplot(gr_train_scaled['rougher.input.feed_size'], fill=True, label='Train - Rougher Feed Size')\n",
    "sns.kdeplot(gr_test_scaled['rougher.input.feed_size'], fill=True, label='Test - Rougher Feed Size')\n",
    "plt.legend(fontsize=12)\n",
    "plt.xlabel('Feed Size Values (Normalized)', fontsize=12, labelpad = 10)\n",
    "plt.ylabel('Density', fontsize=12)\n",
    "#plt.xlim(0,100)\n",
    "plt.tight_layout()\n",
    "plt.show()"
   ]
  },
  {
   "cell_type": "markdown",
   "metadata": {},
   "source": [
    "The feed particle size distributions in the training set and in the test set do not vary significantly according to the comparison. \n",
    "But we should keep in mind that now it's not the real size, since the data have been scaled."
   ]
  },
  {
   "cell_type": "code",
   "execution_count": 94,
   "metadata": {},
   "outputs": [
    {
     "data": {
      "image/png": "[encoded data removed]",
      "text/plain": [
       "<Figure size 432x288 with 1 Axes>"
      ]
     },
     "metadata": {},
     "output_type": "display_data"
    }
   ],
   "source": [
    "boxplot = gr_train_scaled.boxplot(column=['primary_cleaner.input.feed_size'])#, 'rougher.input.feed_size'])\n",
    "plt.ylim(0.5,0.9)\n",
    "plt.show()\n"
   ]
  },
  {
   "cell_type": "code",
   "execution_count": 95,
   "metadata": {},
   "outputs": [
    {
     "data": {
      "image/png": "[encoded data removed]",
      "text/plain": [
       "<Figure size 432x288 with 1 Axes>"
      ]
     },
     "metadata": {},
     "output_type": "display_data"
    }
   ],
   "source": [
    "boxplot = gr_test_scaled.boxplot(column=['primary_cleaner.input.feed_size'])#, 'rougher.input.feed_size'])\n",
    "plt.ylim(0.4, 0.85)\n",
    "plt.show()"
   ]
  },
  {
   "cell_type": "code",
   "execution_count": 96,
   "metadata": {},
   "outputs": [
    {
     "data": {
      "image/png": "[encoded data removed]",
      "text/plain": [
       "<Figure size 432x288 with 1 Axes>"
      ]
     },
     "metadata": {},
     "output_type": "display_data"
    }
   ],
   "source": [
    "boxplot = gr_train_scaled.boxplot(column=['rougher.input.feed_size'])\n",
    "plt.ylim(0, 0.2)\n",
    "plt.show()\n"
   ]
  },
  {
   "cell_type": "code",
   "execution_count": 97,
   "metadata": {},
   "outputs": [
    {
     "data": {
      "image/png": "[encoded data removed]",
      "text/plain": [
       "<Figure size 432x288 with 1 Axes>"
      ]
     },
     "metadata": {},
     "output_type": "display_data"
    }
   ],
   "source": [
    "boxplot = gr_test_scaled.boxplot(column=['rougher.input.feed_size'])\n",
    "plt.ylim(0, 0.2)\n",
    "plt.show()"
   ]
  },
  {
   "cell_type": "markdown",
   "metadata": {},
   "source": [
    "### Total concentrations of all substances at different stages"
   ]
  },
  {
   "cell_type": "code",
   "execution_count": 98,
   "metadata": {},
   "outputs": [],
   "source": [
    "def metal_concen_sum(df, stage):\n",
    "    metal_handles = list(metals.keys())\n",
    "    total_concen = df[stage+metal_handles[0]] + df[stage+metal_handles[1]] + df[stage+metal_handles[2]]\n",
    "    return total_concen"
   ]
  },
  {
   "cell_type": "code",
   "execution_count": 99,
   "metadata": {},
   "outputs": [
    {
     "data": {
      "image/png": "[encoded data removed]",
      "text/plain": [
       "<Figure size 936x360 with 1 Axes>"
      ]
     },
     "metadata": {},
     "output_type": "display_data"
    }
   ],
   "source": [
    "fig = plt.figure(figsize=(13, 5))\n",
    "fig.suptitle('Total Concentration of All Metals by Stage (Density)', fontsize=15, y=1)\n",
    "\n",
    "sns.kdeplot(metal_concen_sum(gr_full, 'rougher.input.feed'), label='rougher.input.feed', fill=True)\n",
    "sns.kdeplot(metal_concen_sum(gr_full, 'rougher.output.concentrate'), label='rougher.output.concentrate', fill=True)\n",
    "sns.kdeplot(metal_concen_sum(gr_full, 'final.output.concentrate'), label='final.output.concentrate', fill=True)\n",
    "plt.legend(fontsize=12)\n",
    "plt.xlabel('Total Metal Concentration (%)', fontsize=12, labelpad = 15)\n",
    "plt.ylabel('Density', fontsize=12, labelpad=15)\n",
    "    \n",
    "plt.tight_layout()\n",
    "plt.show()"
   ]
  },
  {
   "cell_type": "markdown",
   "metadata": {},
   "source": [
    "As we noted before values around 0 can be considered anomalies.\n",
    "For the cleaner data we will remove them."
   ]
  },
  {
   "cell_type": "code",
   "execution_count": 100,
   "metadata": {},
   "outputs": [],
   "source": [
    "gr_full_filt = gr_full.loc[(gr_full[['rougher.input.feed_au', 'rougher.input.feed_pb', \\\n",
    "                                               'rougher.input.feed_ag']].sum(axis=1) > 10) \\\n",
    "                                  & (gr_full[['rougher.output.concentrate_au', 'rougher.output.concentrate_pb', \\\n",
    "                                                 'rougher.output.concentrate_ag']].sum(axis=1) > 10) \\\n",
    "                                  & (gr_full[['final.output.concentrate_au', 'final.output.concentrate_pb', \\\n",
    "                                                'final.output.concentrate_ag']].sum(axis=1) > 10)]"
   ]
  },
  {
   "cell_type": "code",
   "execution_count": 101,
   "metadata": {},
   "outputs": [
    {
     "data": {
      "image/png": "[encoded data removed]",
      "text/plain": [
       "<Figure size 936x360 with 1 Axes>"
      ]
     },
     "metadata": {},
     "output_type": "display_data"
    }
   ],
   "source": [
    "#Create plot to visualize total concentration of all metals at certain stages in dataset with outliers removed.\n",
    "fig = plt.figure(figsize=(13, 5))\n",
    "fig.suptitle('Total Concentration of All Metals by Stage - Outliers Removed (Density)', fontsize=15, y=1)\n",
    "\n",
    "sns.kdeplot(metal_concen_sum(gr_full_filt, 'rougher.input.feed'), label='rougher.input.feed', fill=True)\n",
    "sns.kdeplot(metal_concen_sum(gr_full_filt, 'rougher.output.concentrate'), label='rougher.output.concentrate', fill=True)\n",
    "sns.kdeplot(metal_concen_sum(gr_full_filt, 'final.output.concentrate'), label='final.output.concentrate', fill=True)\n",
    "plt.legend(fontsize=12)\n",
    "plt.xlabel('Total Metal Concentration (%)', fontsize=12, labelpad = 12)\n",
    "plt.ylabel('Density', fontsize=12, labelpad=15)\n",
    "    \n",
    "plt.tight_layout()\n",
    "plt.show()"
   ]
  },
  {
   "cell_type": "code",
   "execution_count": 102,
   "metadata": {},
   "outputs": [
    {
     "data": {
      "text/html": [
       "<div>\n",
       "<style scoped>\n",
       "    .dataframe tbody tr th:only-of-type {\n",
       "        vertical-align: middle;\n",
       "    }\n",
       "\n",
       "    .dataframe tbody tr th {\n",
       "        vertical-align: top;\n",
       "    }\n",
       "\n",
       "    .dataframe thead th {\n",
       "        text-align: right;\n",
       "    }\n",
       "</style>\n",
       "<table border=\"1\" class=\"dataframe\">\n",
       "  <thead>\n",
       "    <tr style=\"text-align: right;\">\n",
       "      <th></th>\n",
       "      <th>Initial Length</th>\n",
       "      <th>New Length</th>\n",
       "      <th>Difference (%)</th>\n",
       "    </tr>\n",
       "  </thead>\n",
       "  <tbody>\n",
       "    <tr>\n",
       "      <th>Train</th>\n",
       "      <td>16860</td>\n",
       "      <td>13659</td>\n",
       "      <td>18.99</td>\n",
       "    </tr>\n",
       "    <tr>\n",
       "      <th>Test</th>\n",
       "      <td>5856</td>\n",
       "      <td>5133</td>\n",
       "      <td>12.35</td>\n",
       "    </tr>\n",
       "  </tbody>\n",
       "</table>\n",
       "</div>"
      ],
      "text/plain": [
       "       Initial Length  New Length  Difference (%)\n",
       "Train           16860       13659           18.99\n",
       "Test             5856        5133           12.35"
      ]
     },
     "metadata": {},
     "output_type": "display_data"
    }
   ],
   "source": [
    "total_before = [len(gr_train), len(gr_test)]\n",
    "\n",
    "#Remove outliers from scaled testing and training datasets based on whether date is in gold_full_no_outliers.\n",
    "gr_train_scaled = gr_train_scaled.loc[gr_train_scaled['date'].isin(gr_full_filt['date'])].reset_index(drop=True)\n",
    "gr_test_scaled = gr_test_scaled.loc[gr_test_scaled['date'].isin(gr_full_filt['date'])].reset_index(drop=True)\n",
    "\n",
    "#Display lengths of datasets before and after removing outliers, as well as percentage of difference.\n",
    "display(pd.DataFrame([[total_before[0], len(gr_train_scaled), round((100 - (len(gr_train_scaled) / total_before[0]) * 100), 2)], \\\n",
    "                      [total_before[1], len(gr_test_scaled), round((100 - (len(gr_test_scaled) / total_before[1]) * 100), 2)]], \\\n",
    "                    columns = ['Initial Length', 'New Length', 'Difference (%)'], index=['Train', 'Test']))"
   ]
  },
  {
   "cell_type": "markdown",
   "metadata": {},
   "source": [
    "## Build the model"
   ]
  },
  {
   "cell_type": "markdown",
   "metadata": {},
   "source": [
    "### Final sMAPE value"
   ]
  },
  {
   "cell_type": "code",
   "execution_count": 103,
   "metadata": {},
   "outputs": [],
   "source": [
    "#Create function to calculate sMAPE.\n",
    "def smape2(y_true, y_pred):\n",
    "    smape = np.mean(abs(y_pred - y_true) / ((abs(y_true) + abs(y_pred)) / 2)) * 100\n",
    "    return smape\n",
    "\n",
    "#Create function to calculate final sMAPE.\n",
    "def f_smape(y_true, y_pred):\n",
    "    predicted_rough, predicted_final = y_pred[:, 0], y_pred[:, 1]\n",
    "    true_rough, true_final = y_true[:, 0], y_true[:, 1]\n",
    "    f_smape = (.25 * (smape2(true_rough, predicted_rough))) + (.75 * (smape2(true_final, predicted_final)))\n",
    "    return f_smape"
   ]
  },
  {
   "cell_type": "markdown",
   "metadata": {},
   "source": [
    "### Model training"
   ]
  },
  {
   "cell_type": "code",
   "execution_count": 104,
   "metadata": {},
   "outputs": [],
   "source": [
    "targets = ['rougher.output.recovery', 'final.output.recovery']\n",
    "features = [x for x in gr_train if x not in targets and x != 'date']"
   ]
  },
  {
   "cell_type": "code",
   "execution_count": 105,
   "metadata": {},
   "outputs": [
    {
     "data": {
      "text/html": [
       "<div>\n",
       "<style scoped>\n",
       "    .dataframe tbody tr th:only-of-type {\n",
       "        vertical-align: middle;\n",
       "    }\n",
       "\n",
       "    .dataframe tbody tr th {\n",
       "        vertical-align: top;\n",
       "    }\n",
       "\n",
       "    .dataframe thead th {\n",
       "        text-align: right;\n",
       "    }\n",
       "</style>\n",
       "<table border=\"1\" class=\"dataframe\">\n",
       "  <thead>\n",
       "    <tr style=\"text-align: right;\">\n",
       "      <th></th>\n",
       "      <th>rougher.output.recovery</th>\n",
       "      <th>final.output.recovery</th>\n",
       "      <th>primary_cleaner.input.sulfate</th>\n",
       "      <th>primary_cleaner.input.depressant</th>\n",
       "      <th>primary_cleaner.input.feed_size</th>\n",
       "      <th>primary_cleaner.input.xanthate</th>\n",
       "      <th>primary_cleaner.state.floatbank8_a_air</th>\n",
       "      <th>primary_cleaner.state.floatbank8_a_level</th>\n",
       "      <th>primary_cleaner.state.floatbank8_b_air</th>\n",
       "      <th>primary_cleaner.state.floatbank8_b_level</th>\n",
       "      <th>...</th>\n",
       "      <th>secondary_cleaner.state.floatbank4_a_air</th>\n",
       "      <th>secondary_cleaner.state.floatbank4_a_level</th>\n",
       "      <th>secondary_cleaner.state.floatbank4_b_air</th>\n",
       "      <th>secondary_cleaner.state.floatbank4_b_level</th>\n",
       "      <th>secondary_cleaner.state.floatbank5_a_air</th>\n",
       "      <th>secondary_cleaner.state.floatbank5_a_level</th>\n",
       "      <th>secondary_cleaner.state.floatbank5_b_air</th>\n",
       "      <th>secondary_cleaner.state.floatbank5_b_level</th>\n",
       "      <th>secondary_cleaner.state.floatbank6_a_air</th>\n",
       "      <th>secondary_cleaner.state.floatbank6_a_level</th>\n",
       "    </tr>\n",
       "  </thead>\n",
       "  <tbody>\n",
       "    <tr>\n",
       "      <th>count</th>\n",
       "      <td>13659.000000</td>\n",
       "      <td>13659.000000</td>\n",
       "      <td>13659.000000</td>\n",
       "      <td>13659.000000</td>\n",
       "      <td>13659.000000</td>\n",
       "      <td>13659.000000</td>\n",
       "      <td>13659.000000</td>\n",
       "      <td>13659.000000</td>\n",
       "      <td>13659.000000</td>\n",
       "      <td>13659.000000</td>\n",
       "      <td>...</td>\n",
       "      <td>13659.000000</td>\n",
       "      <td>13659.000000</td>\n",
       "      <td>13659.000000</td>\n",
       "      <td>13659.000000</td>\n",
       "      <td>13659.000000</td>\n",
       "      <td>13659.000000</td>\n",
       "      <td>13659.000000</td>\n",
       "      <td>13659.000000</td>\n",
       "      <td>13659.000000</td>\n",
       "      <td>13659.000000</td>\n",
       "    </tr>\n",
       "    <tr>\n",
       "      <th>mean</th>\n",
       "      <td>84.595874</td>\n",
       "      <td>66.965182</td>\n",
       "      <td>0.533333</td>\n",
       "      <td>0.222174</td>\n",
       "      <td>0.665802</td>\n",
       "      <td>0.146551</td>\n",
       "      <td>0.772802</td>\n",
       "      <td>0.662947</td>\n",
       "      <td>0.680812</td>\n",
       "      <td>0.671059</td>\n",
       "      <td>...</td>\n",
       "      <td>0.332596</td>\n",
       "      <td>0.478386</td>\n",
       "      <td>0.553097</td>\n",
       "      <td>0.466343</td>\n",
       "      <td>0.270791</td>\n",
       "      <td>0.602387</td>\n",
       "      <td>0.320348</td>\n",
       "      <td>0.465562</td>\n",
       "      <td>0.357623</td>\n",
       "      <td>0.394014</td>\n",
       "    </tr>\n",
       "    <tr>\n",
       "      <th>std</th>\n",
       "      <td>7.796614</td>\n",
       "      <td>9.027345</td>\n",
       "      <td>0.153040</td>\n",
       "      <td>0.083842</td>\n",
       "      <td>0.064984</td>\n",
       "      <td>0.062338</td>\n",
       "      <td>0.062220</td>\n",
       "      <td>0.076746</td>\n",
       "      <td>0.055954</td>\n",
       "      <td>0.073083</td>\n",
       "      <td>...</td>\n",
       "      <td>0.094225</td>\n",
       "      <td>0.075664</td>\n",
       "      <td>0.188388</td>\n",
       "      <td>0.080549</td>\n",
       "      <td>0.091571</td>\n",
       "      <td>0.072978</td>\n",
       "      <td>0.146020</td>\n",
       "      <td>0.057463</td>\n",
       "      <td>0.104458</td>\n",
       "      <td>0.048199</td>\n",
       "    </tr>\n",
       "    <tr>\n",
       "      <th>min</th>\n",
       "      <td>2.520854</td>\n",
       "      <td>0.463711</td>\n",
       "      <td>0.000012</td>\n",
       "      <td>0.000000</td>\n",
       "      <td>0.000000</td>\n",
       "      <td>0.000000</td>\n",
       "      <td>0.000003</td>\n",
       "      <td>0.002970</td>\n",
       "      <td>0.000004</td>\n",
       "      <td>0.129882</td>\n",
       "      <td>...</td>\n",
       "      <td>0.000000</td>\n",
       "      <td>0.000318</td>\n",
       "      <td>0.000000</td>\n",
       "      <td>0.000221</td>\n",
       "      <td>0.000806</td>\n",
       "      <td>0.004953</td>\n",
       "      <td>0.005559</td>\n",
       "      <td>0.000371</td>\n",
       "      <td>0.003118</td>\n",
       "      <td>0.001395</td>\n",
       "    </tr>\n",
       "    <tr>\n",
       "      <th>25%</th>\n",
       "      <td>80.424855</td>\n",
       "      <td>62.832615</td>\n",
       "      <td>0.430097</td>\n",
       "      <td>0.151172</td>\n",
       "      <td>0.627263</td>\n",
       "      <td>0.100426</td>\n",
       "      <td>0.765680</td>\n",
       "      <td>0.637900</td>\n",
       "      <td>0.657424</td>\n",
       "      <td>0.646389</td>\n",
       "      <td>...</td>\n",
       "      <td>0.249794</td>\n",
       "      <td>0.445224</td>\n",
       "      <td>0.424995</td>\n",
       "      <td>0.411596</td>\n",
       "      <td>0.181394</td>\n",
       "      <td>0.570601</td>\n",
       "      <td>0.217285</td>\n",
       "      <td>0.441357</td>\n",
       "      <td>0.272857</td>\n",
       "      <td>0.401872</td>\n",
       "    </tr>\n",
       "    <tr>\n",
       "      <th>50%</th>\n",
       "      <td>85.546600</td>\n",
       "      <td>67.521225</td>\n",
       "      <td>0.531010</td>\n",
       "      <td>0.200927</td>\n",
       "      <td>0.662407</td>\n",
       "      <td>0.146983</td>\n",
       "      <td>0.770261</td>\n",
       "      <td>0.638706</td>\n",
       "      <td>0.678310</td>\n",
       "      <td>0.647338</td>\n",
       "      <td>...</td>\n",
       "      <td>0.333358</td>\n",
       "      <td>0.446637</td>\n",
       "      <td>0.534677</td>\n",
       "      <td>0.412660</td>\n",
       "      <td>0.289098</td>\n",
       "      <td>0.571882</td>\n",
       "      <td>0.293578</td>\n",
       "      <td>0.441639</td>\n",
       "      <td>0.363925</td>\n",
       "      <td>0.402771</td>\n",
       "    </tr>\n",
       "    <tr>\n",
       "      <th>75%</th>\n",
       "      <td>90.299288</td>\n",
       "      <td>72.409614</td>\n",
       "      <td>0.635197</td>\n",
       "      <td>0.287042</td>\n",
       "      <td>0.705005</td>\n",
       "      <td>0.182610</td>\n",
       "      <td>0.817339</td>\n",
       "      <td>0.639853</td>\n",
       "      <td>0.720002</td>\n",
       "      <td>0.648528</td>\n",
       "      <td>...</td>\n",
       "      <td>0.416508</td>\n",
       "      <td>0.521150</td>\n",
       "      <td>0.716570</td>\n",
       "      <td>0.549000</td>\n",
       "      <td>0.340277</td>\n",
       "      <td>0.635317</td>\n",
       "      <td>0.445194</td>\n",
       "      <td>0.514420</td>\n",
       "      <td>0.455174</td>\n",
       "      <td>0.403456</td>\n",
       "    </tr>\n",
       "    <tr>\n",
       "      <th>max</th>\n",
       "      <td>99.979041</td>\n",
       "      <td>100.000000</td>\n",
       "      <td>0.992571</td>\n",
       "      <td>0.501306</td>\n",
       "      <td>1.000000</td>\n",
       "      <td>0.416889</td>\n",
       "      <td>1.000000</td>\n",
       "      <td>1.000000</td>\n",
       "      <td>0.895610</td>\n",
       "      <td>0.976049</td>\n",
       "      <td>...</td>\n",
       "      <td>0.501929</td>\n",
       "      <td>0.825139</td>\n",
       "      <td>0.857308</td>\n",
       "      <td>0.898979</td>\n",
       "      <td>0.694578</td>\n",
       "      <td>1.000000</td>\n",
       "      <td>0.697603</td>\n",
       "      <td>0.945292</td>\n",
       "      <td>0.586384</td>\n",
       "      <td>0.916124</td>\n",
       "    </tr>\n",
       "  </tbody>\n",
       "</table>\n",
       "<p>8 rows × 54 columns</p>\n",
       "</div>"
      ],
      "text/plain": [
       "       rougher.output.recovery  final.output.recovery  \\\n",
       "count             13659.000000           13659.000000   \n",
       "mean                 84.595874              66.965182   \n",
       "std                   7.796614               9.027345   \n",
       "min                   2.520854               0.463711   \n",
       "25%                  80.424855              62.832615   \n",
       "50%                  85.546600              67.521225   \n",
       "75%                  90.299288              72.409614   \n",
       "max                  99.979041             100.000000   \n",
       "\n",
       "       primary_cleaner.input.sulfate  primary_cleaner.input.depressant  \\\n",
       "count                   13659.000000                      13659.000000   \n",
       "mean                        0.533333                          0.222174   \n",
       "std                         0.153040                          0.083842   \n",
       "min                         0.000012                          0.000000   \n",
       "25%                         0.430097                          0.151172   \n",
       "50%                         0.531010                          0.200927   \n",
       "75%                         0.635197                          0.287042   \n",
       "max                         0.992571                          0.501306   \n",
       "\n",
       "       primary_cleaner.input.feed_size  primary_cleaner.input.xanthate  \\\n",
       "count                     13659.000000                    13659.000000   \n",
       "mean                          0.665802                        0.146551   \n",
       "std                           0.064984                        0.062338   \n",
       "min                           0.000000                        0.000000   \n",
       "25%                           0.627263                        0.100426   \n",
       "50%                           0.662407                        0.146983   \n",
       "75%                           0.705005                        0.182610   \n",
       "max                           1.000000                        0.416889   \n",
       "\n",
       "       primary_cleaner.state.floatbank8_a_air  \\\n",
       "count                            13659.000000   \n",
       "mean                                 0.772802   \n",
       "std                                  0.062220   \n",
       "min                                  0.000003   \n",
       "25%                                  0.765680   \n",
       "50%                                  0.770261   \n",
       "75%                                  0.817339   \n",
       "max                                  1.000000   \n",
       "\n",
       "       primary_cleaner.state.floatbank8_a_level  \\\n",
       "count                              13659.000000   \n",
       "mean                                   0.662947   \n",
       "std                                    0.076746   \n",
       "min                                    0.002970   \n",
       "25%                                    0.637900   \n",
       "50%                                    0.638706   \n",
       "75%                                    0.639853   \n",
       "max                                    1.000000   \n",
       "\n",
       "       primary_cleaner.state.floatbank8_b_air  \\\n",
       "count                            13659.000000   \n",
       "mean                                 0.680812   \n",
       "std                                  0.055954   \n",
       "min                                  0.000004   \n",
       "25%                                  0.657424   \n",
       "50%                                  0.678310   \n",
       "75%                                  0.720002   \n",
       "max                                  0.895610   \n",
       "\n",
       "       primary_cleaner.state.floatbank8_b_level  ...  \\\n",
       "count                              13659.000000  ...   \n",
       "mean                                   0.671059  ...   \n",
       "std                                    0.073083  ...   \n",
       "min                                    0.129882  ...   \n",
       "25%                                    0.646389  ...   \n",
       "50%                                    0.647338  ...   \n",
       "75%                                    0.648528  ...   \n",
       "max                                    0.976049  ...   \n",
       "\n",
       "       secondary_cleaner.state.floatbank4_a_air  \\\n",
       "count                              13659.000000   \n",
       "mean                                   0.332596   \n",
       "std                                    0.094225   \n",
       "min                                    0.000000   \n",
       "25%                                    0.249794   \n",
       "50%                                    0.333358   \n",
       "75%                                    0.416508   \n",
       "max                                    0.501929   \n",
       "\n",
       "       secondary_cleaner.state.floatbank4_a_level  \\\n",
       "count                                13659.000000   \n",
       "mean                                     0.478386   \n",
       "std                                      0.075664   \n",
       "min                                      0.000318   \n",
       "25%                                      0.445224   \n",
       "50%                                      0.446637   \n",
       "75%                                      0.521150   \n",
       "max                                      0.825139   \n",
       "\n",
       "       secondary_cleaner.state.floatbank4_b_air  \\\n",
       "count                              13659.000000   \n",
       "mean                                   0.553097   \n",
       "std                                    0.188388   \n",
       "min                                    0.000000   \n",
       "25%                                    0.424995   \n",
       "50%                                    0.534677   \n",
       "75%                                    0.716570   \n",
       "max                                    0.857308   \n",
       "\n",
       "       secondary_cleaner.state.floatbank4_b_level  \\\n",
       "count                                13659.000000   \n",
       "mean                                     0.466343   \n",
       "std                                      0.080549   \n",
       "min                                      0.000221   \n",
       "25%                                      0.411596   \n",
       "50%                                      0.412660   \n",
       "75%                                      0.549000   \n",
       "max                                      0.898979   \n",
       "\n",
       "       secondary_cleaner.state.floatbank5_a_air  \\\n",
       "count                              13659.000000   \n",
       "mean                                   0.270791   \n",
       "std                                    0.091571   \n",
       "min                                    0.000806   \n",
       "25%                                    0.181394   \n",
       "50%                                    0.289098   \n",
       "75%                                    0.340277   \n",
       "max                                    0.694578   \n",
       "\n",
       "       secondary_cleaner.state.floatbank5_a_level  \\\n",
       "count                                13659.000000   \n",
       "mean                                     0.602387   \n",
       "std                                      0.072978   \n",
       "min                                      0.004953   \n",
       "25%                                      0.570601   \n",
       "50%                                      0.571882   \n",
       "75%                                      0.635317   \n",
       "max                                      1.000000   \n",
       "\n",
       "       secondary_cleaner.state.floatbank5_b_air  \\\n",
       "count                              13659.000000   \n",
       "mean                                   0.320348   \n",
       "std                                    0.146020   \n",
       "min                                    0.005559   \n",
       "25%                                    0.217285   \n",
       "50%                                    0.293578   \n",
       "75%                                    0.445194   \n",
       "max                                    0.697603   \n",
       "\n",
       "       secondary_cleaner.state.floatbank5_b_level  \\\n",
       "count                                13659.000000   \n",
       "mean                                     0.465562   \n",
       "std                                      0.057463   \n",
       "min                                      0.000371   \n",
       "25%                                      0.441357   \n",
       "50%                                      0.441639   \n",
       "75%                                      0.514420   \n",
       "max                                      0.945292   \n",
       "\n",
       "       secondary_cleaner.state.floatbank6_a_air  \\\n",
       "count                              13659.000000   \n",
       "mean                                   0.357623   \n",
       "std                                    0.104458   \n",
       "min                                    0.003118   \n",
       "25%                                    0.272857   \n",
       "50%                                    0.363925   \n",
       "75%                                    0.455174   \n",
       "max                                    0.586384   \n",
       "\n",
       "       secondary_cleaner.state.floatbank6_a_level  \n",
       "count                                13659.000000  \n",
       "mean                                     0.394014  \n",
       "std                                      0.048199  \n",
       "min                                      0.001395  \n",
       "25%                                      0.401872  \n",
       "50%                                      0.402771  \n",
       "75%                                      0.403456  \n",
       "max                                      0.916124  \n",
       "\n",
       "[8 rows x 54 columns]"
      ]
     },
     "execution_count": 105,
     "metadata": {},
     "output_type": "execute_result"
    }
   ],
   "source": [
    "gr_train_scaled.describe()"
   ]
  },
  {
   "cell_type": "code",
   "execution_count": 106,
   "metadata": {},
   "outputs": [],
   "source": [
    "#Split training and testing datasets by features and targets.\n",
    "y_train, y_test = gr_train_scaled[targets].values, gr_test_scaled[targets].values\n",
    "X_train, X_test = gr_train_scaled[features].values, gr_test_scaled[features].values"
   ]
  },
  {
   "cell_type": "code",
   "execution_count": 107,
   "metadata": {},
   "outputs": [],
   "source": [
    "smape = make_scorer(f_smape, greater_is_better=False)\n",
    "\n",
    "#Create function to train and fit models using GridSearchCV\n",
    "def train_fit_score(model, params, name):\n",
    "    model = GridSearchCV(model, param_grid=params, cv=5, scoring=smape, verbose=0, refit=True)\n",
    "    model.fit(X_train, y_train)\n",
    "    return pd.DataFrame([[name, abs(model.best_score_), model.best_params_]], columns=['Estimator', 'Best Score', 'Best Params'])"
   ]
  },
  {
   "cell_type": "code",
   "execution_count": 108,
   "metadata": {},
   "outputs": [
    {
     "name": "stdout",
     "output_type": "stream",
     "text": [
      "CPU times: user 2.32 s, sys: 3.26 s, total: 5.57 s\n",
      "Wall time: 5.56 s\n"
     ]
    }
   ],
   "source": [
    "%%time\n",
    "#Create Linear Regressor\n",
    "LinearRegressor = train_fit_score(LinearRegression(), {}, 'Linear Regressor')"
   ]
  },
  {
   "cell_type": "code",
   "execution_count": 109,
   "metadata": {},
   "outputs": [
    {
     "name": "stdout",
     "output_type": "stream",
     "text": [
      "CPU times: user 39.6 s, sys: 55.8 s, total: 1min 35s\n",
      "Wall time: 1min 35s\n"
     ]
    }
   ],
   "source": [
    "%%time\n",
    "#Create Lasso Regressor\n",
    "LassoRegressor = train_fit_score(Lasso(random_state=12345), \\\n",
    "                        {'alpha' : np.arange(.01, 1, .05)}, 'Lasso Regressor')"
   ]
  },
  {
   "cell_type": "code",
   "execution_count": 110,
   "metadata": {},
   "outputs": [
    {
     "data": {
      "text/html": [
       "<div>\n",
       "<style scoped>\n",
       "    .dataframe tbody tr th:only-of-type {\n",
       "        vertical-align: middle;\n",
       "    }\n",
       "\n",
       "    .dataframe tbody tr th {\n",
       "        vertical-align: top;\n",
       "    }\n",
       "\n",
       "    .dataframe thead th {\n",
       "        text-align: right;\n",
       "    }\n",
       "</style>\n",
       "<table border=\"1\" class=\"dataframe\">\n",
       "  <thead>\n",
       "    <tr style=\"text-align: right;\">\n",
       "      <th></th>\n",
       "      <th>Estimator</th>\n",
       "      <th>Best Score</th>\n",
       "      <th>Best Params</th>\n",
       "    </tr>\n",
       "  </thead>\n",
       "  <tbody>\n",
       "    <tr>\n",
       "      <th>0</th>\n",
       "      <td>Lasso Regressor</td>\n",
       "      <td>8.517324</td>\n",
       "      <td>{'alpha': 0.060000000000000005}</td>\n",
       "    </tr>\n",
       "  </tbody>\n",
       "</table>\n",
       "</div>"
      ],
      "text/plain": [
       "         Estimator  Best Score                      Best Params\n",
       "0  Lasso Regressor    8.517324  {'alpha': 0.060000000000000005}"
      ]
     },
     "execution_count": 110,
     "metadata": {},
     "output_type": "execute_result"
    }
   ],
   "source": [
    "LassoRegressor"
   ]
  },
  {
   "cell_type": "code",
   "execution_count": 111,
   "metadata": {},
   "outputs": [
    {
     "name": "stdout",
     "output_type": "stream",
     "text": [
      "CPU times: user 59.7 s, sys: 27.6 s, total: 1min 27s\n",
      "Wall time: 1min 28s\n"
     ]
    }
   ],
   "source": [
    "%%time\n",
    "#Create KNeighbors Regressor\n",
    "KNNeighbors = train_fit_score(KNeighborsRegressor(), \n",
    "                        {'n_neighbors' : range(2, 10, 1),\n",
    "                         'weights' : ['uniform', 'distance']}, 'KNeighbors Regressor')"
   ]
  },
  {
   "cell_type": "code",
   "execution_count": 112,
   "metadata": {},
   "outputs": [
    {
     "name": "stdout",
     "output_type": "stream",
     "text": [
      "CPU times: user 26min 21s, sys: 0 ns, total: 26min 21s\n",
      "Wall time: 26min 34s\n"
     ]
    }
   ],
   "source": [
    "%%time\n",
    "#Create Random Forest Regressor\n",
    "RandomForest = train_fit_score(RandomForestRegressor(random_state=12345), \n",
    "                       {'n_estimators' : range(10, 85, 25),\n",
    "                        'max_depth' : range(5, 45, 10),\n",
    "                        'min_impurity_decrease' : np.arange(.05, .25, .1)}, 'Random Forest')"
   ]
  },
  {
   "cell_type": "code",
   "execution_count": 123,
   "metadata": {},
   "outputs": [
    {
     "data": {
      "text/html": [
       "<div>\n",
       "<style scoped>\n",
       "    .dataframe tbody tr th:only-of-type {\n",
       "        vertical-align: middle;\n",
       "    }\n",
       "\n",
       "    .dataframe tbody tr th {\n",
       "        vertical-align: top;\n",
       "    }\n",
       "\n",
       "    .dataframe thead th {\n",
       "        text-align: right;\n",
       "    }\n",
       "</style>\n",
       "<table border=\"1\" class=\"dataframe\">\n",
       "  <thead>\n",
       "    <tr style=\"text-align: right;\">\n",
       "      <th></th>\n",
       "      <th>Estimator</th>\n",
       "      <th>Best Score</th>\n",
       "      <th>Best Params</th>\n",
       "    </tr>\n",
       "  </thead>\n",
       "  <tbody>\n",
       "    <tr>\n",
       "      <th>0</th>\n",
       "      <td>Random Forest</td>\n",
       "      <td>8.85922</td>\n",
       "      <td>{'max_depth': 15, 'min_impurity_decrease': 0.1...</td>\n",
       "    </tr>\n",
       "  </tbody>\n",
       "</table>\n",
       "</div>"
      ],
      "text/plain": [
       "       Estimator  Best Score  \\\n",
       "0  Random Forest     8.85922   \n",
       "\n",
       "                                         Best Params  \n",
       "0  {'max_depth': 15, 'min_impurity_decrease': 0.1...  "
      ]
     },
     "execution_count": 123,
     "metadata": {},
     "output_type": "execute_result"
    }
   ],
   "source": [
    "RandomForest"
   ]
  },
  {
   "cell_type": "code",
   "execution_count": 114,
   "metadata": {},
   "outputs": [
    {
     "data": {
      "text/html": [
       "<div>\n",
       "<style scoped>\n",
       "    .dataframe tbody tr th:only-of-type {\n",
       "        vertical-align: middle;\n",
       "    }\n",
       "\n",
       "    .dataframe tbody tr th {\n",
       "        vertical-align: top;\n",
       "    }\n",
       "\n",
       "    .dataframe thead th {\n",
       "        text-align: right;\n",
       "    }\n",
       "</style>\n",
       "<table border=\"1\" class=\"dataframe\">\n",
       "  <thead>\n",
       "    <tr style=\"text-align: right;\">\n",
       "      <th></th>\n",
       "      <th>Best Score</th>\n",
       "    </tr>\n",
       "    <tr>\n",
       "      <th>Estimator</th>\n",
       "      <th></th>\n",
       "    </tr>\n",
       "  </thead>\n",
       "  <tbody>\n",
       "    <tr>\n",
       "      <th>Linear Regressor</th>\n",
       "      <td>10.01</td>\n",
       "    </tr>\n",
       "    <tr>\n",
       "      <th>Lasso Regressor</th>\n",
       "      <td>8.52</td>\n",
       "    </tr>\n",
       "    <tr>\n",
       "      <th>KNeighbors Regressor</th>\n",
       "      <td>9.74</td>\n",
       "    </tr>\n",
       "    <tr>\n",
       "      <th>Random Forest</th>\n",
       "      <td>8.86</td>\n",
       "    </tr>\n",
       "  </tbody>\n",
       "</table>\n",
       "</div>"
      ],
      "text/plain": [
       "                      Best Score\n",
       "Estimator                       \n",
       "Linear Regressor           10.01\n",
       "Lasso Regressor             8.52\n",
       "KNeighbors Regressor        9.74\n",
       "Random Forest               8.86"
      ]
     },
     "metadata": {},
     "output_type": "display_data"
    }
   ],
   "source": [
    "#Display best scores from all regressors.\n",
    "scores = pd.concat([LinearRegressor, LassoRegressor, KNNeighbors, RandomForest]).set_index('Estimator')\n",
    "scores['Best Score'] = scores['Best Score'].round(2)\n",
    "display(scores.drop('Best Params', axis=1))"
   ]
  },
  {
   "cell_type": "markdown",
   "metadata": {},
   "source": [
    "We've trained 4 models and the best final sMAPE is obtained for random forest model and Lasso Regressor. We will use it for our test dataset."
   ]
  },
  {
   "cell_type": "code",
   "execution_count": 119,
   "metadata": {},
   "outputs": [
    {
     "name": "stdout",
     "output_type": "stream",
     "text": [
      "sMAPE score for best Random Forest model on test datasets: 7.33\n"
     ]
    }
   ],
   "source": [
    "best_model = RandomForestRegressor(**scores['Best Params'][3]).fit(X_train, y_train)\n",
    "\n",
    "\n",
    "RandomForest_smape = round(f_smape(y_test, best_model.predict(X_test)), 2)\n",
    "\n",
    "#Print the result.\n",
    "print(f'sMAPE score for best Random Forest model on test datasets: {RandomForest_smape}')"
   ]
  },
  {
   "cell_type": "code",
   "execution_count": 118,
   "metadata": {},
   "outputs": [
    {
     "name": "stdout",
     "output_type": "stream",
     "text": [
      "sMAPE score for best Lasso Regressor model on test datasets: 6.28\n"
     ]
    }
   ],
   "source": [
    "#Create instance of best KNeighbors regression model and fit it to training data.\n",
    "best_model = Lasso(**scores['Best Params'][1]).fit(X_train, y_train)\n",
    "\n",
    "#Obtain final sMAPE score for model using testing datasets.\n",
    "Lasso_smape = round(f_smape(y_test, best_model.predict(X_test)), 2)\n",
    "\n",
    "#Print the result.\n",
    "print(f'sMAPE score for best Lasso Regressor model on test datasets: {Lasso_smape}')"
   ]
  },
  {
   "cell_type": "code",
   "execution_count": 116,
   "metadata": {},
   "outputs": [
    {
     "name": "stdout",
     "output_type": "stream",
     "text": [
      "sMAPE score for sanity check model: 7.54\n"
     ]
    }
   ],
   "source": [
    "import numpy as np\n",
    "from sklearn.dummy import DummyRegressor\n",
    "\n",
    "dummy_regr = DummyRegressor(strategy=\"mean\")\n",
    "dr = dummy_regr.fit(X_train, y_train)\n",
    "\n",
    "smape_sanity = f_smape(y_test, dr.predict(X_test))\n",
    "print(f'sMAPE score for sanity check model: {round(smape_sanity, 2)}')"
   ]
  },
  {
   "cell_type": "markdown",
   "metadata": {},
   "source": [
    "We've trained the model with the Lasso Regressor and obtained final sMAPE score prevailing the score for the sanity check model."
   ]
  }
 ],
 "metadata": {
  "ExecuteTimeLog": [
   {
    "duration": 1263,
    "start_time": "2022-04-08T14:06:51.499Z"
   },
   {
    "duration": 357,
    "start_time": "2022-04-08T14:08:18.768Z"
   },
   {
    "duration": 290,
    "start_time": "2022-04-08T14:08:47.617Z"
   },
   {
    "duration": 94,
    "start_time": "2022-04-08T14:09:28.188Z"
   },
   {
    "duration": 83,
    "start_time": "2022-04-08T14:09:57.476Z"
   },
   {
    "duration": 414,
    "start_time": "2022-04-08T14:10:29.671Z"
   },
   {
    "duration": 482,
    "start_time": "2022-04-08T14:10:37.904Z"
   },
   {
    "duration": 429,
    "start_time": "2022-04-08T14:11:57.100Z"
   },
   {
    "duration": 87,
    "start_time": "2022-04-08T14:55:53.262Z"
   },
   {
    "duration": 385,
    "start_time": "2022-04-08T14:56:00.926Z"
   },
   {
    "duration": 305,
    "start_time": "2022-04-08T14:56:13.210Z"
   },
   {
    "duration": 47,
    "start_time": "2022-04-08T19:08:42.932Z"
   },
   {
    "duration": 1355,
    "start_time": "2022-04-08T19:08:50.281Z"
   },
   {
    "duration": 302,
    "start_time": "2022-04-08T19:08:51.638Z"
   },
   {
    "duration": 78,
    "start_time": "2022-04-08T19:08:51.942Z"
   },
   {
    "duration": 380,
    "start_time": "2022-04-08T19:08:52.022Z"
   },
   {
    "duration": 62,
    "start_time": "2022-04-08T19:08:52.404Z"
   },
   {
    "duration": 28,
    "start_time": "2022-04-08T20:49:53.208Z"
   },
   {
    "duration": 381,
    "start_time": "2022-04-08T20:57:44.903Z"
   },
   {
    "duration": 26,
    "start_time": "2022-04-08T20:58:51.179Z"
   },
   {
    "duration": 6,
    "start_time": "2022-04-08T21:09:14.988Z"
   },
   {
    "duration": 7,
    "start_time": "2022-04-08T21:09:33.987Z"
   },
   {
    "duration": 8,
    "start_time": "2022-04-08T21:09:54.803Z"
   },
   {
    "duration": 6,
    "start_time": "2022-04-08T21:14:28.347Z"
   },
   {
    "duration": 14,
    "start_time": "2022-04-08T21:18:06.733Z"
   },
   {
    "duration": 5,
    "start_time": "2022-04-08T21:38:16.714Z"
   },
   {
    "duration": 5,
    "start_time": "2022-04-08T21:39:21.213Z"
   },
   {
    "duration": 8,
    "start_time": "2022-04-08T21:41:23.206Z"
   },
   {
    "duration": 5,
    "start_time": "2022-04-08T21:41:35.583Z"
   },
   {
    "duration": 10,
    "start_time": "2022-04-08T21:42:24.232Z"
   },
   {
    "duration": 6,
    "start_time": "2022-04-08T21:44:36.957Z"
   },
   {
    "duration": 50,
    "start_time": "2022-04-09T11:18:50.920Z"
   },
   {
    "duration": 1512,
    "start_time": "2022-04-09T11:18:54.697Z"
   },
   {
    "duration": 289,
    "start_time": "2022-04-09T11:18:56.212Z"
   },
   {
    "duration": 67,
    "start_time": "2022-04-09T11:18:56.503Z"
   },
   {
    "duration": 363,
    "start_time": "2022-04-09T11:18:56.571Z"
   },
   {
    "duration": 30,
    "start_time": "2022-04-09T11:18:56.936Z"
   },
   {
    "duration": 7,
    "start_time": "2022-04-09T11:18:56.969Z"
   },
   {
    "duration": 41,
    "start_time": "2022-04-09T11:18:56.978Z"
   },
   {
    "duration": 6,
    "start_time": "2022-04-09T11:18:57.021Z"
   },
   {
    "duration": 11,
    "start_time": "2022-04-09T11:18:57.029Z"
   },
   {
    "duration": 11,
    "start_time": "2022-04-09T11:19:07.410Z"
   },
   {
    "duration": 74,
    "start_time": "2022-04-09T11:19:29.475Z"
   },
   {
    "duration": 10,
    "start_time": "2022-04-09T11:20:00.149Z"
   },
   {
    "duration": 13,
    "start_time": "2022-04-09T11:21:11.562Z"
   },
   {
    "duration": 9,
    "start_time": "2022-04-09T11:21:20.778Z"
   },
   {
    "duration": 25,
    "start_time": "2022-04-09T11:22:00.519Z"
   },
   {
    "duration": 517,
    "start_time": "2022-04-09T11:26:37.474Z"
   },
   {
    "duration": 7,
    "start_time": "2022-04-09T11:26:54.367Z"
   },
   {
    "duration": 16,
    "start_time": "2022-04-09T11:27:01.037Z"
   },
   {
    "duration": 21,
    "start_time": "2022-04-09T11:27:07.405Z"
   },
   {
    "duration": 14,
    "start_time": "2022-04-09T11:47:29.533Z"
   },
   {
    "duration": 1300,
    "start_time": "2022-04-09T11:47:46.605Z"
   },
   {
    "duration": 285,
    "start_time": "2022-04-09T11:49:08.729Z"
   },
   {
    "duration": 15,
    "start_time": "2022-04-09T11:49:10.156Z"
   },
   {
    "duration": 459,
    "start_time": "2022-04-09T11:49:14.925Z"
   },
   {
    "duration": 297,
    "start_time": "2022-04-09T11:49:54.475Z"
   },
   {
    "duration": 23,
    "start_time": "2022-04-09T11:49:58.686Z"
   },
   {
    "duration": 16,
    "start_time": "2022-04-09T11:49:59.965Z"
   },
   {
    "duration": 459,
    "start_time": "2022-04-09T11:50:03.906Z"
   },
   {
    "duration": 16,
    "start_time": "2022-04-09T11:50:27.010Z"
   },
   {
    "duration": 151,
    "start_time": "2022-04-09T11:52:03.526Z"
   },
   {
    "duration": 42,
    "start_time": "2022-04-09T12:06:16.678Z"
   },
   {
    "duration": 39,
    "start_time": "2022-04-09T12:08:16.617Z"
   },
   {
    "duration": 35,
    "start_time": "2022-04-09T12:08:22.766Z"
   },
   {
    "duration": 31,
    "start_time": "2022-04-09T12:10:44.935Z"
   },
   {
    "duration": 39,
    "start_time": "2022-04-09T12:10:53.377Z"
   },
   {
    "duration": 8,
    "start_time": "2022-04-09T12:11:23.002Z"
   },
   {
    "duration": 13,
    "start_time": "2022-04-09T12:12:33.377Z"
   },
   {
    "duration": 11,
    "start_time": "2022-04-09T12:13:53.464Z"
   },
   {
    "duration": 26,
    "start_time": "2022-04-09T12:16:31.925Z"
   },
   {
    "duration": 10,
    "start_time": "2022-04-09T12:17:52.586Z"
   },
   {
    "duration": 48,
    "start_time": "2022-04-09T12:18:17.523Z"
   },
   {
    "duration": 9,
    "start_time": "2022-04-09T12:24:01.284Z"
   },
   {
    "duration": 2400,
    "start_time": "2022-04-10T18:16:12.597Z"
   },
   {
    "duration": 377,
    "start_time": "2022-04-10T18:16:15.000Z"
   },
   {
    "duration": 104,
    "start_time": "2022-04-10T18:16:15.379Z"
   },
   {
    "duration": 458,
    "start_time": "2022-04-10T18:16:15.485Z"
   },
   {
    "duration": 55,
    "start_time": "2022-04-10T18:16:15.946Z"
   },
   {
    "duration": 10,
    "start_time": "2022-04-10T18:16:16.003Z"
   },
   {
    "duration": 51,
    "start_time": "2022-04-10T18:16:16.015Z"
   },
   {
    "duration": 356,
    "start_time": "2022-04-10T18:16:16.069Z"
   },
   {
    "duration": 43,
    "start_time": "2022-04-10T18:16:16.427Z"
   },
   {
    "duration": 110,
    "start_time": "2022-04-10T18:16:16.472Z"
   },
   {
    "duration": 16,
    "start_time": "2022-04-10T18:16:16.584Z"
   },
   {
    "duration": 204,
    "start_time": "2022-04-10T18:16:16.603Z"
   },
   {
    "duration": 0,
    "start_time": "2022-04-10T18:16:16.810Z"
   },
   {
    "duration": 0,
    "start_time": "2022-04-10T18:16:16.812Z"
   },
   {
    "duration": 0,
    "start_time": "2022-04-10T18:16:16.815Z"
   },
   {
    "duration": 0,
    "start_time": "2022-04-10T18:16:16.817Z"
   },
   {
    "duration": 3469,
    "start_time": "2022-04-10T18:16:39.285Z"
   },
   {
    "duration": 18,
    "start_time": "2022-04-10T18:20:11.646Z"
   },
   {
    "duration": 12,
    "start_time": "2022-04-10T18:20:14.756Z"
   },
   {
    "duration": 56,
    "start_time": "2022-04-10T18:20:25.388Z"
   },
   {
    "duration": 75,
    "start_time": "2022-04-10T18:20:26.885Z"
   },
   {
    "duration": 584,
    "start_time": "2022-04-10T18:20:47.715Z"
   },
   {
    "duration": 220,
    "start_time": "2022-04-10T18:20:49.095Z"
   },
   {
    "duration": 74,
    "start_time": "2022-04-10T18:21:25.438Z"
   },
   {
    "duration": 43,
    "start_time": "2022-04-10T18:22:03.745Z"
   },
   {
    "duration": 22,
    "start_time": "2022-04-10T18:23:41.370Z"
   },
   {
    "duration": 54,
    "start_time": "2022-04-10T18:25:13.841Z"
   },
   {
    "duration": 371,
    "start_time": "2022-04-10T18:25:29.072Z"
   },
   {
    "duration": 121,
    "start_time": "2022-04-10T18:27:11.347Z"
   },
   {
    "duration": 97,
    "start_time": "2022-04-10T18:27:50.203Z"
   },
   {
    "duration": 134,
    "start_time": "2022-04-10T18:27:55.739Z"
   },
   {
    "duration": 6,
    "start_time": "2022-04-10T18:34:10.949Z"
   },
   {
    "duration": 21,
    "start_time": "2022-04-10T18:34:21.854Z"
   },
   {
    "duration": 3109,
    "start_time": "2022-04-11T12:54:17.685Z"
   },
   {
    "duration": 551,
    "start_time": "2022-04-11T12:54:20.798Z"
   },
   {
    "duration": 89,
    "start_time": "2022-04-11T12:54:21.351Z"
   },
   {
    "duration": 454,
    "start_time": "2022-04-11T12:54:21.442Z"
   },
   {
    "duration": 43,
    "start_time": "2022-04-11T12:54:21.898Z"
   },
   {
    "duration": 26,
    "start_time": "2022-04-11T12:54:21.943Z"
   },
   {
    "duration": 26,
    "start_time": "2022-04-11T12:54:21.971Z"
   },
   {
    "duration": 345,
    "start_time": "2022-04-11T12:54:21.999Z"
   },
   {
    "duration": 37,
    "start_time": "2022-04-11T12:54:22.346Z"
   },
   {
    "duration": 112,
    "start_time": "2022-04-11T12:54:22.387Z"
   },
   {
    "duration": 13,
    "start_time": "2022-04-11T12:54:22.501Z"
   },
   {
    "duration": 17,
    "start_time": "2022-04-11T12:54:22.517Z"
   },
   {
    "duration": 58,
    "start_time": "2022-04-11T12:54:22.568Z"
   },
   {
    "duration": 97,
    "start_time": "2022-04-11T12:54:22.629Z"
   },
   {
    "duration": 681,
    "start_time": "2022-04-11T12:54:22.728Z"
   },
   {
    "duration": 251,
    "start_time": "2022-04-11T12:54:23.411Z"
   },
   {
    "duration": 105,
    "start_time": "2022-04-11T12:54:23.664Z"
   },
   {
    "duration": 54,
    "start_time": "2022-04-11T12:54:23.771Z"
   },
   {
    "duration": 158,
    "start_time": "2022-04-11T12:54:23.827Z"
   },
   {
    "duration": 153,
    "start_time": "2022-04-11T13:22:01.208Z"
   },
   {
    "duration": 12,
    "start_time": "2022-04-11T13:24:32.477Z"
   },
   {
    "duration": 11,
    "start_time": "2022-04-11T13:24:48.842Z"
   },
   {
    "duration": 9,
    "start_time": "2022-04-11T13:25:05.849Z"
   },
   {
    "duration": 33,
    "start_time": "2022-04-11T13:31:49.020Z"
   },
   {
    "duration": 166,
    "start_time": "2022-04-11T13:44:18.088Z"
   },
   {
    "duration": 12,
    "start_time": "2022-04-11T13:45:39.302Z"
   },
   {
    "duration": 13,
    "start_time": "2022-04-11T13:45:50.967Z"
   },
   {
    "duration": 1851,
    "start_time": "2022-04-16T15:03:28.148Z"
   },
   {
    "duration": 368,
    "start_time": "2022-04-16T15:03:30.002Z"
   },
   {
    "duration": 96,
    "start_time": "2022-04-16T15:03:30.372Z"
   },
   {
    "duration": 459,
    "start_time": "2022-04-16T15:03:30.469Z"
   },
   {
    "duration": 39,
    "start_time": "2022-04-16T15:03:30.931Z"
   },
   {
    "duration": 7,
    "start_time": "2022-04-16T15:03:30.971Z"
   },
   {
    "duration": 19,
    "start_time": "2022-04-16T15:03:30.979Z"
   },
   {
    "duration": 408,
    "start_time": "2022-04-16T15:03:31.000Z"
   },
   {
    "duration": 32,
    "start_time": "2022-04-16T15:03:31.409Z"
   },
   {
    "duration": 72,
    "start_time": "2022-04-16T15:03:31.446Z"
   },
   {
    "duration": 28,
    "start_time": "2022-04-16T15:03:31.520Z"
   },
   {
    "duration": 36,
    "start_time": "2022-04-16T15:03:31.550Z"
   },
   {
    "duration": 58,
    "start_time": "2022-04-16T15:03:31.588Z"
   },
   {
    "duration": 57,
    "start_time": "2022-04-16T15:03:31.650Z"
   },
   {
    "duration": 614,
    "start_time": "2022-04-16T15:03:31.709Z"
   },
   {
    "duration": 206,
    "start_time": "2022-04-16T15:03:32.324Z"
   },
   {
    "duration": 64,
    "start_time": "2022-04-16T15:03:32.532Z"
   },
   {
    "duration": 71,
    "start_time": "2022-04-16T15:03:32.598Z"
   },
   {
    "duration": 109,
    "start_time": "2022-04-16T15:03:32.670Z"
   },
   {
    "duration": 12,
    "start_time": "2022-04-16T15:03:32.781Z"
   },
   {
    "duration": 323,
    "start_time": "2022-04-16T15:03:32.795Z"
   },
   {
    "duration": 0,
    "start_time": "2022-04-16T15:03:33.119Z"
   },
   {
    "duration": 344,
    "start_time": "2022-04-16T16:18:35.030Z"
   },
   {
    "duration": 4616,
    "start_time": "2022-04-16T16:19:35.290Z"
   },
   {
    "duration": 4064,
    "start_time": "2022-04-16T16:21:22.529Z"
   },
   {
    "duration": 5392,
    "start_time": "2022-04-16T16:21:47.698Z"
   },
   {
    "duration": 47,
    "start_time": "2022-04-18T16:43:17.716Z"
   },
   {
    "duration": 1774,
    "start_time": "2022-04-18T16:43:24.089Z"
   },
   {
    "duration": 370,
    "start_time": "2022-04-18T16:43:25.865Z"
   },
   {
    "duration": 71,
    "start_time": "2022-04-18T16:43:26.237Z"
   },
   {
    "duration": 371,
    "start_time": "2022-04-18T16:43:26.310Z"
   },
   {
    "duration": 28,
    "start_time": "2022-04-18T16:43:26.682Z"
   },
   {
    "duration": 6,
    "start_time": "2022-04-18T16:43:26.713Z"
   },
   {
    "duration": 33,
    "start_time": "2022-04-18T16:43:26.721Z"
   },
   {
    "duration": 290,
    "start_time": "2022-04-18T16:43:26.756Z"
   },
   {
    "duration": 24,
    "start_time": "2022-04-18T16:43:27.048Z"
   },
   {
    "duration": 79,
    "start_time": "2022-04-18T16:43:27.075Z"
   },
   {
    "duration": 11,
    "start_time": "2022-04-18T16:43:27.156Z"
   },
   {
    "duration": 30,
    "start_time": "2022-04-18T16:43:27.169Z"
   },
   {
    "duration": 55,
    "start_time": "2022-04-18T16:43:27.201Z"
   },
   {
    "duration": 49,
    "start_time": "2022-04-18T16:43:27.258Z"
   },
   {
    "duration": 437,
    "start_time": "2022-04-18T16:43:27.309Z"
   },
   {
    "duration": 144,
    "start_time": "2022-04-18T16:43:27.747Z"
   },
   {
    "duration": 63,
    "start_time": "2022-04-18T16:43:27.893Z"
   },
   {
    "duration": 28,
    "start_time": "2022-04-18T16:43:27.958Z"
   },
   {
    "duration": 98,
    "start_time": "2022-04-18T16:43:27.988Z"
   },
   {
    "duration": 4931,
    "start_time": "2022-04-18T16:43:28.088Z"
   },
   {
    "duration": 970,
    "start_time": "2022-04-18T16:43:33.021Z"
   },
   {
    "duration": 927,
    "start_time": "2022-04-18T16:46:22.308Z"
   },
   {
    "duration": 869,
    "start_time": "2022-04-18T16:46:33.352Z"
   },
   {
    "duration": 8,
    "start_time": "2022-04-18T17:25:10.843Z"
   },
   {
    "duration": 4,
    "start_time": "2022-04-18T17:43:37.203Z"
   },
   {
    "duration": 260,
    "start_time": "2022-04-18T17:43:43.069Z"
   },
   {
    "duration": 135,
    "start_time": "2022-04-18T17:44:44.298Z"
   },
   {
    "duration": 10,
    "start_time": "2022-04-18T17:45:38.605Z"
   },
   {
    "duration": 12,
    "start_time": "2022-04-18T17:49:19.569Z"
   },
   {
    "duration": 8,
    "start_time": "2022-04-18T17:52:36.043Z"
   },
   {
    "duration": 12,
    "start_time": "2022-04-18T17:54:39.988Z"
   },
   {
    "duration": 119,
    "start_time": "2022-04-18T17:55:32.890Z"
   },
   {
    "duration": 177,
    "start_time": "2022-04-18T17:57:26.453Z"
   },
   {
    "duration": 4922,
    "start_time": "2022-04-18T17:58:26.580Z"
   },
   {
    "duration": 176,
    "start_time": "2022-04-18T17:58:40.842Z"
   },
   {
    "duration": 138,
    "start_time": "2022-04-18T17:58:49.756Z"
   },
   {
    "duration": 178,
    "start_time": "2022-04-18T17:59:00.773Z"
   },
   {
    "duration": 178,
    "start_time": "2022-04-18T17:59:19.253Z"
   },
   {
    "duration": 279,
    "start_time": "2022-04-18T17:59:33.206Z"
   },
   {
    "duration": 190,
    "start_time": "2022-04-18T18:00:03.338Z"
   },
   {
    "duration": 324,
    "start_time": "2022-04-18T18:00:32.805Z"
   },
   {
    "duration": 385,
    "start_time": "2022-04-18T18:01:33.079Z"
   },
   {
    "duration": 217,
    "start_time": "2022-04-18T18:01:39.949Z"
   },
   {
    "duration": 3,
    "start_time": "2022-04-18T18:07:43.464Z"
   },
   {
    "duration": 4,
    "start_time": "2022-04-18T18:07:50.269Z"
   },
   {
    "duration": 3,
    "start_time": "2022-04-18T18:09:55.116Z"
   },
   {
    "duration": 4,
    "start_time": "2022-04-18T18:10:58.542Z"
   },
   {
    "duration": 28287,
    "start_time": "2022-04-23T10:12:47.785Z"
   },
   {
    "duration": 1255,
    "start_time": "2022-04-23T10:13:16.074Z"
   },
   {
    "duration": 33,
    "start_time": "2022-04-23T10:13:17.331Z"
   },
   {
    "duration": 93,
    "start_time": "2022-04-23T10:13:22.465Z"
   },
   {
    "duration": 8,
    "start_time": "2022-04-23T10:13:49.081Z"
   },
   {
    "duration": 16,
    "start_time": "2022-04-23T10:13:54.359Z"
   },
   {
    "duration": 21,
    "start_time": "2022-04-23T10:14:15.022Z"
   },
   {
    "duration": 8,
    "start_time": "2022-04-23T10:14:21.369Z"
   },
   {
    "duration": 12,
    "start_time": "2022-04-23T10:14:35.525Z"
   },
   {
    "duration": 5,
    "start_time": "2022-04-23T10:14:41.403Z"
   },
   {
    "duration": 9,
    "start_time": "2022-04-23T10:14:47.239Z"
   },
   {
    "duration": 4,
    "start_time": "2022-04-23T10:14:51.768Z"
   },
   {
    "duration": 8,
    "start_time": "2022-04-23T10:15:03.035Z"
   },
   {
    "duration": 7,
    "start_time": "2022-04-23T10:15:06.045Z"
   },
   {
    "duration": 7,
    "start_time": "2022-04-23T10:15:08.229Z"
   },
   {
    "duration": 8,
    "start_time": "2022-04-23T10:15:11.803Z"
   },
   {
    "duration": 7,
    "start_time": "2022-04-23T10:16:05.018Z"
   },
   {
    "duration": 31,
    "start_time": "2022-04-23T10:16:33.546Z"
   },
   {
    "duration": 8,
    "start_time": "2022-04-23T10:23:48.992Z"
   },
   {
    "duration": 8,
    "start_time": "2022-04-23T10:23:59.198Z"
   },
   {
    "duration": 10,
    "start_time": "2022-04-23T10:24:14.441Z"
   },
   {
    "duration": 7,
    "start_time": "2022-04-23T10:24:20.678Z"
   },
   {
    "duration": 8,
    "start_time": "2022-04-23T10:24:23.039Z"
   },
   {
    "duration": 31,
    "start_time": "2022-04-23T10:24:31.910Z"
   },
   {
    "duration": 5,
    "start_time": "2022-04-23T10:24:40.550Z"
   },
   {
    "duration": 702,
    "start_time": "2022-04-23T10:24:55.812Z"
   },
   {
    "duration": 25,
    "start_time": "2022-04-23T10:25:04.974Z"
   },
   {
    "duration": 17,
    "start_time": "2022-04-23T10:26:17.210Z"
   },
   {
    "duration": 16,
    "start_time": "2022-04-23T10:26:20.967Z"
   },
   {
    "duration": 16,
    "start_time": "2022-04-23T10:26:25.515Z"
   },
   {
    "duration": 17,
    "start_time": "2022-04-23T10:26:50.602Z"
   },
   {
    "duration": 18,
    "start_time": "2022-04-23T10:26:57.209Z"
   },
   {
    "duration": 17,
    "start_time": "2022-04-23T10:27:00.375Z"
   },
   {
    "duration": 3186,
    "start_time": "2022-04-23T16:17:12.604Z"
   },
   {
    "duration": 989,
    "start_time": "2022-04-23T16:17:15.793Z"
   },
   {
    "duration": 28,
    "start_time": "2022-04-23T16:17:16.784Z"
   },
   {
    "duration": 11,
    "start_time": "2022-04-23T16:17:16.815Z"
   },
   {
    "duration": 40,
    "start_time": "2022-04-23T16:17:16.829Z"
   },
   {
    "duration": 64,
    "start_time": "2022-04-23T16:17:16.872Z"
   },
   {
    "duration": 10,
    "start_time": "2022-04-23T16:17:16.939Z"
   },
   {
    "duration": 25,
    "start_time": "2022-04-23T16:17:16.951Z"
   },
   {
    "duration": 397,
    "start_time": "2022-04-23T16:17:16.978Z"
   },
   {
    "duration": 51,
    "start_time": "2022-04-23T16:17:17.379Z"
   },
   {
    "duration": 27,
    "start_time": "2022-04-23T16:17:31.138Z"
   },
   {
    "duration": 18,
    "start_time": "2022-04-23T16:17:43.320Z"
   },
   {
    "duration": 173,
    "start_time": "2022-04-23T16:20:08.846Z"
   },
   {
    "duration": 33,
    "start_time": "2022-04-23T16:20:22.376Z"
   },
   {
    "duration": 127,
    "start_time": "2022-04-23T16:21:07.210Z"
   },
   {
    "duration": 19309,
    "start_time": "2022-04-23T16:22:54.209Z"
   },
   {
    "duration": 16,
    "start_time": "2022-04-23T16:23:59.142Z"
   },
   {
    "duration": 43,
    "start_time": "2022-04-23T16:24:07.922Z"
   },
   {
    "duration": 14,
    "start_time": "2022-04-23T16:24:11.681Z"
   },
   {
    "duration": 12,
    "start_time": "2022-04-23T16:24:22.397Z"
   },
   {
    "duration": 9,
    "start_time": "2022-04-23T16:24:28.541Z"
   },
   {
    "duration": 565,
    "start_time": "2022-04-23T16:24:32.162Z"
   },
   {
    "duration": 5,
    "start_time": "2022-04-23T16:27:18.612Z"
   },
   {
    "duration": 19,
    "start_time": "2022-04-23T16:28:55.262Z"
   },
   {
    "duration": 5,
    "start_time": "2022-04-23T16:29:41.877Z"
   },
   {
    "duration": 51,
    "start_time": "2022-04-23T16:29:44.066Z"
   },
   {
    "duration": 14,
    "start_time": "2022-04-23T16:30:07.494Z"
   },
   {
    "duration": 9,
    "start_time": "2022-04-23T16:30:21.607Z"
   },
   {
    "duration": 18,
    "start_time": "2022-04-23T16:30:30.204Z"
   },
   {
    "duration": 10,
    "start_time": "2022-04-23T16:30:44.959Z"
   },
   {
    "duration": 6741,
    "start_time": "2022-04-23T16:31:12.972Z"
   },
   {
    "duration": 423,
    "start_time": "2022-04-23T16:31:30.221Z"
   },
   {
    "duration": 1125,
    "start_time": "2022-04-23T16:32:11.006Z"
   },
   {
    "duration": 1098,
    "start_time": "2022-04-23T16:32:37.022Z"
   },
   {
    "duration": 179,
    "start_time": "2022-04-23T16:33:58.894Z"
   },
   {
    "duration": 185,
    "start_time": "2022-04-23T16:34:13.171Z"
   },
   {
    "duration": 174,
    "start_time": "2022-04-23T16:34:30.446Z"
   },
   {
    "duration": 181,
    "start_time": "2022-04-23T16:34:36.103Z"
   },
   {
    "duration": 184,
    "start_time": "2022-04-23T16:34:49.894Z"
   },
   {
    "duration": 271,
    "start_time": "2022-04-23T16:34:54.070Z"
   },
   {
    "duration": 192,
    "start_time": "2022-04-23T16:35:05.930Z"
   },
   {
    "duration": 165,
    "start_time": "2022-04-23T16:35:23.013Z"
   },
   {
    "duration": 181,
    "start_time": "2022-04-23T16:35:28.099Z"
   },
   {
    "duration": 4,
    "start_time": "2022-04-23T16:35:59.624Z"
   },
   {
    "duration": 1406,
    "start_time": "2022-04-23T16:36:15.194Z"
   },
   {
    "duration": 19,
    "start_time": "2022-04-23T16:36:28.831Z"
   },
   {
    "duration": 1370,
    "start_time": "2022-04-23T16:36:32.708Z"
   },
   {
    "duration": 26,
    "start_time": "2022-04-23T16:37:32.292Z"
   },
   {
    "duration": 6,
    "start_time": "2022-04-23T16:38:24.990Z"
   },
   {
    "duration": 8,
    "start_time": "2022-04-23T16:38:29.377Z"
   },
   {
    "duration": 202,
    "start_time": "2022-04-23T16:38:33.585Z"
   },
   {
    "duration": 11,
    "start_time": "2022-04-23T16:38:48.543Z"
   },
   {
    "duration": 5,
    "start_time": "2022-04-23T16:38:55.850Z"
   },
   {
    "duration": 1404,
    "start_time": "2022-04-23T16:39:11.820Z"
   },
   {
    "duration": 50026,
    "start_time": "2022-04-23T16:39:16.709Z"
   },
   {
    "duration": 23,
    "start_time": "2022-04-23T16:41:08.823Z"
   },
   {
    "duration": 78285,
    "start_time": "2022-04-23T16:41:14.619Z"
   },
   {
    "duration": 14,
    "start_time": "2022-04-23T16:43:01.117Z"
   },
   {
    "duration": 10,
    "start_time": "2022-04-23T16:43:09.659Z"
   },
   {
    "duration": 7792118,
    "start_time": "2022-04-23T16:44:46.077Z"
   },
   {
    "duration": 1559,
    "start_time": "2022-04-24T17:45:09.762Z"
   },
   {
    "duration": 800,
    "start_time": "2022-04-24T17:45:11.323Z"
   },
   {
    "duration": 22,
    "start_time": "2022-04-24T17:45:12.125Z"
   },
   {
    "duration": 3,
    "start_time": "2022-04-24T17:45:12.150Z"
   },
   {
    "duration": 26,
    "start_time": "2022-04-24T17:45:12.154Z"
   },
   {
    "duration": 45,
    "start_time": "2022-04-24T17:45:12.182Z"
   },
   {
    "duration": 6,
    "start_time": "2022-04-24T17:45:12.229Z"
   },
   {
    "duration": 14,
    "start_time": "2022-04-24T17:45:12.237Z"
   },
   {
    "duration": 386,
    "start_time": "2022-04-24T17:45:12.252Z"
   },
   {
    "duration": 25,
    "start_time": "2022-04-24T17:45:12.640Z"
   },
   {
    "duration": 3,
    "start_time": "2022-04-24T17:45:12.667Z"
   },
   {
    "duration": 43,
    "start_time": "2022-04-24T17:45:12.672Z"
   },
   {
    "duration": 6,
    "start_time": "2022-04-24T17:45:12.717Z"
   },
   {
    "duration": 15,
    "start_time": "2022-04-24T17:45:12.725Z"
   },
   {
    "duration": 26,
    "start_time": "2022-04-24T17:45:12.742Z"
   },
   {
    "duration": 14289,
    "start_time": "2022-04-24T17:45:12.770Z"
   },
   {
    "duration": 18,
    "start_time": "2022-04-24T17:45:27.061Z"
   },
   {
    "duration": 8,
    "start_time": "2022-04-24T17:45:27.081Z"
   },
   {
    "duration": 6,
    "start_time": "2022-04-24T17:45:27.091Z"
   },
   {
    "duration": 4701,
    "start_time": "2022-04-24T17:45:27.107Z"
   },
   {
    "duration": 246,
    "start_time": "2022-04-24T17:45:31.810Z"
   },
   {
    "duration": 1107,
    "start_time": "2022-04-24T17:45:32.058Z"
   },
   {
    "duration": 126,
    "start_time": "2022-04-24T17:45:33.167Z"
   },
   {
    "duration": 127,
    "start_time": "2022-04-24T17:45:33.295Z"
   },
   {
    "duration": 121,
    "start_time": "2022-04-24T17:45:33.423Z"
   },
   {
    "duration": 121,
    "start_time": "2022-04-24T17:45:33.546Z"
   },
   {
    "duration": 3,
    "start_time": "2022-04-24T17:45:33.669Z"
   },
   {
    "duration": 1273,
    "start_time": "2022-04-24T17:45:33.677Z"
   },
   {
    "duration": 13,
    "start_time": "2022-04-24T17:45:34.952Z"
   },
   {
    "duration": 988,
    "start_time": "2022-04-24T17:45:34.967Z"
   },
   {
    "duration": 18,
    "start_time": "2022-04-24T17:45:35.956Z"
   },
   {
    "duration": 4,
    "start_time": "2022-04-24T17:45:35.975Z"
   },
   {
    "duration": 7,
    "start_time": "2022-04-24T17:45:35.981Z"
   },
   {
    "duration": 155,
    "start_time": "2022-04-24T17:45:35.990Z"
   },
   {
    "duration": 6,
    "start_time": "2022-04-24T17:45:36.147Z"
   },
   {
    "duration": 5,
    "start_time": "2022-04-24T17:45:36.155Z"
   },
   {
    "duration": 1548,
    "start_time": "2022-04-24T17:45:36.161Z"
   },
   {
    "duration": 36600,
    "start_time": "2022-04-24T17:45:37.711Z"
   },
   {
    "duration": 73557,
    "start_time": "2022-04-24T17:46:14.317Z"
   },
   {
    "duration": 1385482,
    "start_time": "2022-04-24T17:47:27.876Z"
   },
   {
    "duration": 11,
    "start_time": "2022-04-24T18:10:33.359Z"
   },
   {
    "duration": 12651,
    "start_time": "2022-04-24T18:10:33.372Z"
   },
   {
    "duration": 6,
    "start_time": "2022-04-24T18:10:46.024Z"
   },
   {
    "duration": 2365,
    "start_time": "2022-04-25T05:20:26.624Z"
   },
   {
    "duration": 1002,
    "start_time": "2022-04-25T05:20:28.992Z"
   },
   {
    "duration": 34,
    "start_time": "2022-04-25T05:20:29.997Z"
   },
   {
    "duration": 4,
    "start_time": "2022-04-25T05:20:30.034Z"
   },
   {
    "duration": 60,
    "start_time": "2022-04-25T05:20:30.040Z"
   },
   {
    "duration": 50,
    "start_time": "2022-04-25T05:20:30.103Z"
   },
   {
    "duration": 25,
    "start_time": "2022-04-25T05:20:30.156Z"
   },
   {
    "duration": 21,
    "start_time": "2022-04-25T05:20:30.184Z"
   },
   {
    "duration": 437,
    "start_time": "2022-04-25T05:20:30.207Z"
   },
   {
    "duration": 9,
    "start_time": "2022-04-25T05:26:02.610Z"
   },
   {
    "duration": 1006,
    "start_time": "2022-04-25T05:26:02.623Z"
   },
   {
    "duration": 28,
    "start_time": "2022-04-25T05:26:03.632Z"
   },
   {
    "duration": 3,
    "start_time": "2022-04-25T05:26:03.681Z"
   },
   {
    "duration": 30,
    "start_time": "2022-04-25T05:26:03.687Z"
   },
   {
    "duration": 36,
    "start_time": "2022-04-25T05:26:03.719Z"
   },
   {
    "duration": 31,
    "start_time": "2022-04-25T05:26:03.757Z"
   },
   {
    "duration": 27,
    "start_time": "2022-04-25T05:26:03.790Z"
   },
   {
    "duration": 436,
    "start_time": "2022-04-25T05:26:03.820Z"
   },
   {
    "duration": 3,
    "start_time": "2022-04-25T05:26:04.262Z"
   },
   {
    "duration": 14,
    "start_time": "2022-04-25T05:26:04.268Z"
   },
   {
    "duration": 3,
    "start_time": "2022-04-25T05:26:04.285Z"
   },
   {
    "duration": 4,
    "start_time": "2022-04-25T05:26:04.292Z"
   },
   {
    "duration": 87,
    "start_time": "2022-04-25T05:26:04.299Z"
   },
   {
    "duration": 46,
    "start_time": "2022-04-25T05:26:04.389Z"
   },
   {
    "duration": 18019,
    "start_time": "2022-04-25T05:26:04.437Z"
   },
   {
    "duration": 41,
    "start_time": "2022-04-25T05:26:22.458Z"
   },
   {
    "duration": 11,
    "start_time": "2022-04-25T05:26:22.501Z"
   },
   {
    "duration": 10,
    "start_time": "2022-04-25T05:26:22.514Z"
   },
   {
    "duration": 6944,
    "start_time": "2022-04-25T05:26:22.526Z"
   },
   {
    "duration": 386,
    "start_time": "2022-04-25T05:26:29.473Z"
   },
   {
    "duration": 1354,
    "start_time": "2022-04-25T05:26:29.862Z"
   },
   {
    "duration": 206,
    "start_time": "2022-04-25T05:26:31.219Z"
   },
   {
    "duration": 197,
    "start_time": "2022-04-25T05:26:31.427Z"
   },
   {
    "duration": 198,
    "start_time": "2022-04-25T05:26:31.626Z"
   },
   {
    "duration": 200,
    "start_time": "2022-04-25T05:26:31.827Z"
   },
   {
    "duration": 4,
    "start_time": "2022-04-25T05:26:32.030Z"
   },
   {
    "duration": 1497,
    "start_time": "2022-04-25T05:26:32.041Z"
   },
   {
    "duration": 40,
    "start_time": "2022-04-25T05:26:33.541Z"
   },
   {
    "duration": 1663,
    "start_time": "2022-04-25T05:26:33.584Z"
   },
   {
    "duration": 42,
    "start_time": "2022-04-25T05:26:44.662Z"
   },
   {
    "duration": 7,
    "start_time": "2022-04-25T05:27:27.888Z"
   },
   {
    "duration": 972,
    "start_time": "2022-04-25T05:27:27.898Z"
   },
   {
    "duration": 30,
    "start_time": "2022-04-25T05:27:28.872Z"
   },
   {
    "duration": 4,
    "start_time": "2022-04-25T05:27:28.905Z"
   },
   {
    "duration": 32,
    "start_time": "2022-04-25T05:27:28.911Z"
   },
   {
    "duration": 65,
    "start_time": "2022-04-25T05:27:28.946Z"
   },
   {
    "duration": 8,
    "start_time": "2022-04-25T05:27:29.013Z"
   },
   {
    "duration": 19,
    "start_time": "2022-04-25T05:27:29.024Z"
   },
   {
    "duration": 514,
    "start_time": "2022-04-25T05:27:29.045Z"
   },
   {
    "duration": 3,
    "start_time": "2022-04-25T05:27:29.563Z"
   },
   {
    "duration": 22,
    "start_time": "2022-04-25T05:27:29.568Z"
   },
   {
    "duration": 41,
    "start_time": "2022-04-25T05:27:29.593Z"
   },
   {
    "duration": 10,
    "start_time": "2022-04-25T05:27:29.637Z"
   },
   {
    "duration": 55,
    "start_time": "2022-04-25T05:27:29.649Z"
   },
   {
    "duration": 29,
    "start_time": "2022-04-25T05:27:29.706Z"
   },
   {
    "duration": 18212,
    "start_time": "2022-04-25T05:27:29.738Z"
   },
   {
    "duration": 39,
    "start_time": "2022-04-25T05:27:47.952Z"
   },
   {
    "duration": 14,
    "start_time": "2022-04-25T05:27:47.995Z"
   },
   {
    "duration": 13,
    "start_time": "2022-04-25T05:27:48.011Z"
   },
   {
    "duration": 7897,
    "start_time": "2022-04-25T05:27:48.027Z"
   },
   {
    "duration": 404,
    "start_time": "2022-04-25T05:27:55.926Z"
   },
   {
    "duration": 1187,
    "start_time": "2022-04-25T05:27:56.333Z"
   },
   {
    "duration": 303,
    "start_time": "2022-04-25T05:27:57.523Z"
   },
   {
    "duration": 198,
    "start_time": "2022-04-25T05:27:57.829Z"
   },
   {
    "duration": 198,
    "start_time": "2022-04-25T05:27:58.029Z"
   },
   {
    "duration": 198,
    "start_time": "2022-04-25T05:27:58.229Z"
   },
   {
    "duration": 5,
    "start_time": "2022-04-25T05:27:58.429Z"
   },
   {
    "duration": 1414,
    "start_time": "2022-04-25T05:27:58.441Z"
   },
   {
    "duration": 30,
    "start_time": "2022-04-25T05:27:59.858Z"
   },
   {
    "duration": 1459,
    "start_time": "2022-04-25T05:27:59.891Z"
   },
   {
    "duration": 36,
    "start_time": "2022-04-25T05:28:01.353Z"
   },
   {
    "duration": 8,
    "start_time": "2022-04-25T05:48:35.686Z"
   },
   {
    "duration": 1459,
    "start_time": "2022-04-25T05:48:35.697Z"
   },
   {
    "duration": 48,
    "start_time": "2022-04-25T05:48:37.159Z"
   },
   {
    "duration": 4,
    "start_time": "2022-04-25T05:48:37.212Z"
   },
   {
    "duration": 36,
    "start_time": "2022-04-25T05:48:37.218Z"
   },
   {
    "duration": 69,
    "start_time": "2022-04-25T05:48:37.256Z"
   },
   {
    "duration": 9,
    "start_time": "2022-04-25T05:48:37.327Z"
   },
   {
    "duration": 53,
    "start_time": "2022-04-25T05:48:37.338Z"
   },
   {
    "duration": 464,
    "start_time": "2022-04-25T05:48:37.394Z"
   },
   {
    "duration": 3,
    "start_time": "2022-04-25T05:48:37.864Z"
   },
   {
    "duration": 5,
    "start_time": "2022-04-25T05:48:37.882Z"
   },
   {
    "duration": 66,
    "start_time": "2022-04-25T05:48:37.889Z"
   },
   {
    "duration": 9,
    "start_time": "2022-04-25T05:48:37.957Z"
   },
   {
    "duration": 35,
    "start_time": "2022-04-25T05:48:37.982Z"
   },
   {
    "duration": 33,
    "start_time": "2022-04-25T05:48:38.020Z"
   },
   {
    "duration": 20065,
    "start_time": "2022-04-25T05:48:38.056Z"
   },
   {
    "duration": 36,
    "start_time": "2022-04-25T05:48:58.124Z"
   },
   {
    "duration": 24,
    "start_time": "2022-04-25T05:48:58.163Z"
   },
   {
    "duration": 11,
    "start_time": "2022-04-25T05:48:58.189Z"
   },
   {
    "duration": 7271,
    "start_time": "2022-04-25T05:48:58.202Z"
   },
   {
    "duration": 557,
    "start_time": "2022-04-25T05:49:05.477Z"
   },
   {
    "duration": 1188,
    "start_time": "2022-04-25T05:49:06.037Z"
   },
   {
    "duration": 318,
    "start_time": "2022-04-25T05:49:07.227Z"
   },
   {
    "duration": 346,
    "start_time": "2022-04-25T05:49:07.548Z"
   },
   {
    "duration": 238,
    "start_time": "2022-04-25T05:49:07.897Z"
   },
   {
    "duration": 217,
    "start_time": "2022-04-25T05:49:08.137Z"
   },
   {
    "duration": 5,
    "start_time": "2022-04-25T05:49:08.356Z"
   },
   {
    "duration": 1489,
    "start_time": "2022-04-25T05:49:08.367Z"
   },
   {
    "duration": 35,
    "start_time": "2022-04-25T05:49:09.859Z"
   },
   {
    "duration": 1529,
    "start_time": "2022-04-25T05:49:09.896Z"
   },
   {
    "duration": 31,
    "start_time": "2022-04-25T05:49:11.429Z"
   },
   {
    "duration": 9,
    "start_time": "2022-04-25T05:49:11.485Z"
   },
   {
    "duration": 15,
    "start_time": "2022-04-25T05:49:11.497Z"
   },
   {
    "duration": 255,
    "start_time": "2022-04-25T05:49:11.515Z"
   },
   {
    "duration": 21,
    "start_time": "2022-04-25T05:49:11.773Z"
   },
   {
    "duration": 15,
    "start_time": "2022-04-25T05:49:11.797Z"
   },
   {
    "duration": 5575,
    "start_time": "2022-04-25T05:49:11.815Z"
   },
   {
    "duration": 95705,
    "start_time": "2022-04-25T05:49:17.393Z"
   },
   {
    "duration": 101,
    "start_time": "2022-04-25T05:50:53.102Z"
   },
   {
    "duration": 88946,
    "start_time": "2022-04-25T05:50:53.206Z"
   },
   {
    "duration": 1594666,
    "start_time": "2022-04-25T05:52:22.154Z"
   },
   {
    "duration": 10,
    "start_time": "2022-04-25T06:18:56.822Z"
   },
   {
    "duration": 25,
    "start_time": "2022-04-25T06:18:56.835Z"
   },
   {
    "duration": 15421,
    "start_time": "2022-04-25T06:18:56.881Z"
   },
   {
    "duration": 9,
    "start_time": "2022-04-25T06:20:52.367Z"
   },
   {
    "duration": 171,
    "start_time": "2022-04-25T06:21:30.430Z"
   },
   {
    "duration": 495,
    "start_time": "2022-04-25T06:21:50.590Z"
   },
   {
    "duration": 14785,
    "start_time": "2022-04-25T06:27:24.297Z"
   },
   {
    "duration": 10,
    "start_time": "2022-04-25T06:33:47.412Z"
   },
   {
    "duration": 6,
    "start_time": "2022-04-25T06:34:05.988Z"
   },
   {
    "duration": 5,
    "start_time": "2022-04-25T06:34:13.428Z"
   },
   {
    "duration": 10,
    "start_time": "2022-04-25T06:34:26.460Z"
   }
  ],
  "kernelspec": {
   "display_name": "Python 3 (ipykernel)",
   "language": "python",
   "name": "python3"
  },
  "language_info": {
   "codemirror_mode": {
    "name": "ipython",
    "version": 3
   },
   "file_extension": ".py",
   "mimetype": "text/x-python",
   "name": "python",
   "nbconvert_exporter": "python",
   "pygments_lexer": "ipython3",
   "version": "3.9.12"
  },
  "toc": {
   "base_numbering": 1,
   "nav_menu": {},
   "number_sections": true,
   "sideBar": true,
   "skip_h1_title": true,
   "title_cell": "Table of Contents",
   "title_sidebar": "Contents",
   "toc_cell": false,
   "toc_position": {},
   "toc_section_display": true,
   "toc_window_display": false
  }
 },
 "nbformat": 4,
 "nbformat_minor": 2
}
